{
 "cells": [
  {
   "cell_type": "markdown",
   "metadata": {},
   "source": [
    "#### The goal is to use the Random Forest Classification algorithm to obtain results for the different attack categories found in the KDDcup99 dataset. The results are to be displayed in the form of a plot with varying values for the depth of the decision trees. "
   ]
  },
  {
   "cell_type": "code",
   "execution_count": 1,
   "metadata": {},
   "outputs": [
    {
     "name": "stdout",
     "output_type": "stream",
     "text": [
      "(494021, 41)\n",
      "(494021,)\n"
     ]
    }
   ],
   "source": [
    "import matplotlib.pyplot as plt\n",
    "from sklearn.datasets import fetch_kddcup99\n",
    "import numpy as np\n",
    "\n",
    "# Import 10% of the entire kddcup99 dataset\n",
    "kdd99_data = fetch_kddcup99()\n",
    "X = kdd99_data['data']\n",
    "y_og = kdd99_data['target']\n",
    "\n",
    "print(X.shape)\n",
    "print(y_og.shape)"
   ]
  },
  {
   "cell_type": "code",
   "execution_count": 2,
   "metadata": {},
   "outputs": [
    {
     "name": "stdout",
     "output_type": "stream",
     "text": [
      "(494021, 38)\n",
      "(494021,)\n"
     ]
    }
   ],
   "source": [
    "# Remove categorical data from X\n",
    "X_no_cat = np.delete(X,[1,2,3],1)\n",
    "print(X_no_cat.shape)\n",
    "print(y_og.shape)"
   ]
  },
  {
   "cell_type": "code",
   "execution_count": 3,
   "metadata": {},
   "outputs": [
    {
     "data": {
      "text/plain": [
       "array([[0, 181, 5450, 0, 0, 0, 0, 0, 1, 0, 0, 0, 0, 0, 0, 0, 0, 0, 0, 8,\n",
       "        8, 0.0, 0.0, 0.0, 0.0, 1.0, 0.0, 0.0, 9, 9, 1.0, 0.0, 0.11, 0.0,\n",
       "        0.0, 0.0, 0.0, 0.0]], dtype=object)"
      ]
     },
     "execution_count": 3,
     "metadata": {},
     "output_type": "execute_result"
    }
   ],
   "source": [
    "# Make sure all categorical columns were removed\n",
    "X_no_cat[0:1]"
   ]
  },
  {
   "cell_type": "code",
   "execution_count": 4,
   "metadata": {},
   "outputs": [
    {
     "name": "stdout",
     "output_type": "stream",
     "text": [
      "(59000, 38)\n",
      "(59000,)\n"
     ]
    }
   ],
   "source": [
    "# Take a Random Sample\n",
    "sample_indices = np.random.choice(range(len(y_og)), 59000)\n",
    "X_sample = X_no_cat[sample_indices,:]\n",
    "y = y_og[sample_indices]\n",
    "print(X_sample.shape)\n",
    "print(y.shape)"
   ]
  },
  {
   "cell_type": "code",
   "execution_count": 5,
   "metadata": {},
   "outputs": [
    {
     "name": "stdout",
     "output_type": "stream",
     "text": [
      "(59000, 38)\n",
      "(59000,)\n"
     ]
    }
   ],
   "source": [
    "print(X_sample.shape)\n",
    "print(y.shape)"
   ]
  },
  {
   "cell_type": "code",
   "execution_count": 6,
   "metadata": {},
   "outputs": [],
   "source": [
    "# changed from i in range (X.shape[0]): \n",
    "\n",
    "# Assign each attack type to a numerical representation of an attack category\n",
    "\n",
    "for i in range(X_sample.shape[0]):\n",
    "  \n",
    "    if(y[i]==b'normal.'):\n",
    "        y[i] = 1\n",
    "    \n",
    "# dos\n",
    "    if(y[i]==b'neptune.'or y[i]==b'smurf.'or y[i]==b'pod.' or y[i]==b'teardrop.' or y[i]==b'land.' or y[i]==b'back.'):\n",
    "        y[i] = 2\n",
    "\n",
    "# u2r\n",
    "    if(y[i]==b'buffer_overflow.' or y[i]==b'loadmodule.' or y[i]==b'perl.' or y[i]==b'rootkit.'):\n",
    "        y[i] = 3\n",
    "    \n",
    "# r2l \n",
    "    if(y[i]==b'guess_passwd.' or y[i]==b'ftp_write.' or y[i]==b'imap.' or y[i]==b'phf.' or y[i]==b'multihop.' or y[i]==b'warezmaster.' or y[i]==b'warezclient.' or y[i]==b'spy.'):\n",
    "        y[i] = 4\n",
    "\n",
    "# probe\n",
    "    if(y[i]==b'portsweep.' or y[i]==b'ipsweep.' or y[i]==b'nmap.' or y[i]==b'satan.'):\n",
    "        y[i] = 5"
   ]
  },
  {
   "cell_type": "code",
   "execution_count": 7,
   "metadata": {},
   "outputs": [
    {
     "name": "stdout",
     "output_type": "stream",
     "text": [
      "[1 2 2 2 2 2 2 2 2 2 1 2 2 2 2 2 2 2 2 2 2 2 1 2 2 2 2 2 2 2 1 2 2 2 2 2 2\n",
      " 2 2 2 2 2 1 1 2 2 2 2 2 2 2 2 2 1 2 1 2 2 5 2 2 2 2 2 2 2 2 2 1 1 2 2 1 1\n",
      " 2 2 2 2 2 2 2 1 2 1 2 2 2 2 2 1 2 2 2 1 2 1 2 2 2 2]\n",
      "{1, 2, 3, 4, 5}\n",
      "<class 'numpy.ndarray'>\n"
     ]
    }
   ],
   "source": [
    "y = np.int64(y)\n",
    "print(y[40700:40800])\n",
    "print(set(y))\n",
    "print(type(y))"
   ]
  },
  {
   "cell_type": "code",
   "execution_count": 8,
   "metadata": {},
   "outputs": [],
   "source": [
    "from sklearn.model_selection import train_test_split \n",
    "X_train, X_test, y_train, y_test = train_test_split(X_sample, y, test_size=0.33, random_state=42)"
   ]
  },
  {
   "cell_type": "code",
   "execution_count": 9,
   "metadata": {},
   "outputs": [
    {
     "name": "stdout",
     "output_type": "stream",
     "text": [
      "(59000, 38)\n",
      "(59000,)\n",
      "(39530, 38)\n",
      "(39530,)\n",
      "(19470, 38)\n",
      "(19470,)\n"
     ]
    }
   ],
   "source": [
    "print(X_sample.shape)\n",
    "print(y.shape)\n",
    "\n",
    "print(X_train.shape)\n",
    "print(y_train.shape)\n",
    "\n",
    "print(X_test.shape)\n",
    "print(y_test.shape)"
   ]
  },
  {
   "cell_type": "code",
   "execution_count": 10,
   "metadata": {},
   "outputs": [
    {
     "name": "stdout",
     "output_type": "stream",
     "text": [
      "{1, 2, 3, 4, 5}\n",
      "{1, 2, 4, 5}\n"
     ]
    }
   ],
   "source": [
    "print(set(y_train))\n",
    "print(set(y_test))"
   ]
  },
  {
   "cell_type": "code",
   "execution_count": 11,
   "metadata": {},
   "outputs": [],
   "source": [
    "from sklearn.ensemble import RandomForestClassifier\n",
    "from sklearn.metrics import precision_recall_fscore_support as score\n",
    "\n",
    "recall_scores = []\n",
    "precision_scores = []\n",
    "f1_scores = []\n",
    "\n",
    "\n",
    "def calculations(n):\n",
    "    \n",
    "    clf = RandomForestClassifier(max_depth = n, random_state = 42)\n",
    "    clf.fit(X_train,y_train)\n",
    "    y_pred = clf.predict(X_test)\n",
    "    y_pred = np.array(y_pred)\n",
    "    \n",
    "    precision,recall,fscore,support=score(y_test,y_pred,average='macro')\n",
    "    \n",
    "    recall_scores.append(recall)\n",
    "    precision_scores.append(precision)\n",
    "    f1_scores.append(fscore)\n",
    "    \n",
    "    print('Train:', set(y_train))\n",
    "    print('Test:', set(y_test))\n",
    "    print('Predict:', set(y_pred))"
   ]
  },
  {
   "cell_type": "code",
   "execution_count": 12,
   "metadata": {},
   "outputs": [
    {
     "name": "stdout",
     "output_type": "stream",
     "text": [
      "Train: {1, 2, 3, 4, 5}\n",
      "Test: {1, 2, 4, 5}\n",
      "Predict: {1, 2, 4, 5}\n",
      "Train: {1, 2, 3, 4, 5}\n",
      "Test: {1, 2, 4, 5}\n",
      "Predict: {1, 2, 4, 5}\n",
      "Train: {1, 2, 3, 4, 5}\n",
      "Test: {1, 2, 4, 5}\n",
      "Predict: {1, 2, 4, 5}\n",
      "Train: {1, 2, 3, 4, 5}\n",
      "Test: {1, 2, 4, 5}\n",
      "Predict: {1, 2, 4, 5}\n",
      "Train: {1, 2, 3, 4, 5}\n",
      "Test: {1, 2, 4, 5}\n",
      "Predict: {1, 2, 4, 5}\n"
     ]
    }
   ],
   "source": [
    "ilist = []\n",
    "i = 20\n",
    "while i<600:\n",
    "    calculations(i)\n",
    "    ilist.append(i)\n",
    "    i=i*2"
   ]
  },
  {
   "cell_type": "code",
   "execution_count": 13,
   "metadata": {},
   "outputs": [
    {
     "data": {
      "text/plain": [
       "[20, 40, 80, 160, 320]"
      ]
     },
     "execution_count": 13,
     "metadata": {},
     "output_type": "execute_result"
    }
   ],
   "source": [
    "ilist"
   ]
  },
  {
   "cell_type": "code",
   "execution_count": 14,
   "metadata": {},
   "outputs": [
    {
     "data": {
      "image/png": "[encoded data removed]",
      "text/plain": [
       "<Figure size 576x360 with 1 Axes>"
      ]
     },
     "metadata": {
      "needs_background": "light"
     },
     "output_type": "display_data"
    }
   ],
   "source": [
    "plt.figure(figsize = (8,5))\n",
    "\n",
    "plt.plot(ilist, precision_scores, marker='o', linewidth=2, markersize=12, label = 'Precision')\n",
    "plt.plot(ilist, recall_scores, marker='o', linewidth=2, markersize=12, label = 'Recall')\n",
    "plt.plot(ilist, f1_scores, marker='o', linewidth=2, markersize=12, label = 'F1 Score')\n",
    "\n",
    "    \n",
    "plt.xlabel('Max Depth', fontsize = 18)\n",
    "plt.ylabel('Metric Values', fontsize = 18)\n",
    "plt.title('Attack Categories Original KDD (59000, 38)', fontsize = 20)  \n",
    "    \n",
    "leg = plt.legend();\n",
    "\n",
    "plt.ylim((-.1, 1.1))\n",
    "\n",
    "plt.show()"
   ]
  },
  {
   "cell_type": "code",
   "execution_count": 15,
   "metadata": {},
   "outputs": [
    {
     "name": "stdout",
     "output_type": "stream",
     "text": [
      "0.9922157208891038\n",
      "0.9694281747581239\n"
     ]
    }
   ],
   "source": [
    "print(max(precision_scores))\n",
    "print(max(recall_scores))"
   ]
  },
  {
   "cell_type": "code",
   "execution_count": 24,
   "metadata": {},
   "outputs": [
    {
     "name": "stdout",
     "output_type": "stream",
     "text": [
      "Precision: 0.9922157208891038\n",
      "Recall: 0.9694281747581239\n",
      "Fscore 0.9803157665341766\n"
     ]
    }
   ],
   "source": [
    "single_calculation(160)"
   ]
  },
  {
   "cell_type": "code",
   "execution_count": 25,
   "metadata": {},
   "outputs": [
    {
     "name": "stdout",
     "output_type": "stream",
     "text": [
      "Precision: 0.9922157208891038\n",
      "Recall: 0.9694281747581239\n",
      "Fscore 0.9803157665341766\n"
     ]
    }
   ],
   "source": [
    "single_calculation(320)"
   ]
  },
  {
   "cell_type": "code",
   "execution_count": 16,
   "metadata": {},
   "outputs": [
    {
     "data": {
      "image/png": "[encoded data removed]",
      "text/plain": [
       "<Figure size 432x288 with 1 Axes>"
      ]
     },
     "metadata": {
      "needs_background": "light"
     },
     "output_type": "display_data"
    }
   ],
   "source": [
    "    import matplotlib.pyplot as plt\n",
    "#     plt.plot(ilist, recall_scores, label='Recall')\n",
    "#     plt.plot(ilist, precision_scores, label='Precison')\n",
    "#     plt.plot(ilist, f1_scores,label='F1')\n",
    "    \n",
    "    plt.xlabel('Max Depth')\n",
    "    plt.ylabel('Metric Values')\n",
    "    plt.title('RF Classification - Attack Categories Original KDD (59000, 38)')\n",
    "    \n",
    "    plt.plot(ilist, precision_scores, marker='o', linewidth=2, markersize=12, label = 'Precision')\n",
    "    plt.plot(ilist, recall_scores, marker='o', linewidth=2, markersize=12, label = 'Recall')\n",
    "    plt.plot(ilist, f1_scores, marker='o', linewidth=2, markersize=12, label = 'F1 Score')\n",
    "    \n",
    "    leg = plt.legend();\n",
    "\n",
    "    plt.ylim((-.1, 1.1))\n",
    "    \n",
    "    plt.show()"
   ]
  },
  {
   "cell_type": "code",
   "execution_count": 22,
   "metadata": {},
   "outputs": [],
   "source": [
    "def single_calculation(n):\n",
    "    \n",
    "    clf = RandomForestClassifier(max_depth = n, random_state = 42)\n",
    "    clf.fit(X_train,y_train)\n",
    "    y_pred = clf.predict(X_test)\n",
    "    y_pred = np.array(y_pred)\n",
    "    \n",
    "    precision,recall,fscore,support=score(y_test,y_pred,average='macro')\n",
    "    \n",
    "    recall_scores.append(recall)\n",
    "    precision_scores.append(precision)\n",
    "    f1_scores.append(fscore)\n",
    "    \n",
    "    print('Precision:', precision)\n",
    "    print('Recall:', recall)\n",
    "    print('Fscore', fscore)"
   ]
  },
  {
   "cell_type": "code",
   "execution_count": 18,
   "metadata": {},
   "outputs": [
    {
     "name": "stdout",
     "output_type": "stream",
     "text": [
      "0.9922157208891038\n",
      "0.9694281747581239\n"
     ]
    }
   ],
   "source": [
    "print(max(precision_scores))\n",
    "print(max(recall_scores))"
   ]
  },
  {
   "cell_type": "code",
   "execution_count": 19,
   "metadata": {},
   "outputs": [
    {
     "name": "stdout",
     "output_type": "stream",
     "text": [
      "Precision: 0.9922157208891038\n",
      "Recall: 0.9694281747581239\n",
      "Fscore 0.9803157665341766\n"
     ]
    }
   ],
   "source": [
    "single_calculation(40)"
   ]
  },
  {
   "cell_type": "code",
   "execution_count": 20,
   "metadata": {},
   "outputs": [
    {
     "name": "stdout",
     "output_type": "stream",
     "text": [
      "(39530, 38)\n",
      "(19470, 38)\n"
     ]
    }
   ],
   "source": [
    "print(X_train.shape)\n",
    "print(X_test.shape)"
   ]
  }
 ],
 "metadata": {
  "kernelspec": {
   "display_name": "Python 3",
   "language": "python",
   "name": "python3"
  },
  "language_info": {
   "codemirror_mode": {
    "name": "ipython",
    "version": 3
   },
   "file_extension": ".py",
   "mimetype": "text/x-python",
   "name": "python",
   "nbconvert_exporter": "python",
   "pygments_lexer": "ipython3",
   "version": "3.8.3"
  }
 },
 "nbformat": 4,
 "nbformat_minor": 4
}
