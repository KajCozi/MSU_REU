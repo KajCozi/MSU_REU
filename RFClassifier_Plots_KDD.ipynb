{
 "cells": [
  {
   "cell_type": "markdown",
   "metadata": {},
   "source": [
    "# Random Forest Classifier Metrics Using Sample"
   ]
  },
  {
   "cell_type": "code",
   "execution_count": 1,
   "metadata": {},
   "outputs": [],
   "source": [
    "import matplotlib.pyplot as plt\n",
    "from sklearn.datasets import fetch_kddcup99\n",
    "import numpy as np\n",
    "\n",
    "# Load in 10% of entire KDDcup99 dataset\n",
    "kdd99_data = fetch_kddcup99()\n",
    "X = kdd99_data['data']\n",
    "y = kdd99_data['target']"
   ]
  },
  {
   "cell_type": "code",
   "execution_count": 2,
   "metadata": {},
   "outputs": [],
   "source": [
    "# Remove categorical data from X\n",
    "X_no_cat = np.delete(X,[1,2,3],1)"
   ]
  },
  {
   "cell_type": "code",
   "execution_count": 3,
   "metadata": {},
   "outputs": [
    {
     "name": "stdout",
     "output_type": "stream",
     "text": [
      "(59000, 38)\n",
      "(59000,)\n"
     ]
    }
   ],
   "source": [
    "# Take random sample\n",
    "sample_indices = np.random.choice(range(len(y)), 59000)\n",
    "X_sample = X_no_cat[sample_indices,:]\n",
    "y_sample=y[sample_indices]\n",
    "\n",
    "print(X_sample.shape)\n",
    "print(y_sample.shape)"
   ]
  },
  {
   "cell_type": "code",
   "execution_count": 4,
   "metadata": {},
   "outputs": [
    {
     "name": "stdout",
     "output_type": "stream",
     "text": [
      "{1, -1}\n"
     ]
    }
   ],
   "source": [
    "y_sample[y_sample == b'normal.'] = 1\n",
    "y_sample[y_sample != 1] = -1\n",
    "y_sample = np.int64(y_sample)\n",
    "print(set(y_sample))"
   ]
  },
  {
   "cell_type": "code",
   "execution_count": 5,
   "metadata": {},
   "outputs": [],
   "source": [
    "from sklearn.model_selection import train_test_split \n",
    "X_train, X_test, y_train, y_test = train_test_split(X_sample, y_sample, test_size=0.33, random_state=42)"
   ]
  },
  {
   "cell_type": "code",
   "execution_count": 6,
   "metadata": {},
   "outputs": [
    {
     "name": "stdout",
     "output_type": "stream",
     "text": [
      "{1, -1}\n",
      "{1, -1}\n"
     ]
    }
   ],
   "source": [
    "print(set(y_train))\n",
    "print(set(y_test))"
   ]
  },
  {
   "cell_type": "code",
   "execution_count": 7,
   "metadata": {},
   "outputs": [],
   "source": [
    "from sklearn.ensemble import RandomForestClassifier\n",
    "from sklearn.metrics import precision_score\n",
    "from sklearn.metrics import recall_score\n",
    "from sklearn.metrics import f1_score\n",
    "from sklearn.metrics import confusion_matrix\n",
    "\n",
    "recall_scores = []\n",
    "precision_scores = []\n",
    "f1_scores = []\n",
    "weighted_f1_scores = []\n",
    "false_alarms = []\n",
    "\n",
    "def calculations(n):\n",
    "    \n",
    "    clf = RandomForestClassifier(max_depth = n, random_state = 42)\n",
    "    clf.fit(X_train,y_train)\n",
    "    y_pred = clf.predict(X_test)\n",
    "    y_pred = np.array(y_pred)\n",
    "    \n",
    "    \n",
    "    p = precision_score(y_test, y_pred, pos_label = -1)\n",
    "    r = recall_score(y_test, y_pred, pos_label = -1)\n",
    "    f = f1_score(y_test, y_pred, pos_label = -1)\n",
    "    wf = f1_score(y_test, y_pred, average = 'weighted')\n",
    "    \n",
    "    tn, fp, fn, tp = confusion_matrix(y_test,y_pred).ravel()\n",
    "    false_alarm = fp/(fp+tn) \n",
    "    \n",
    "    recall_scores.append(r)\n",
    "    precision_scores.append(p)\n",
    "    f1_scores.append(f)\n",
    "    weighted_f1_scores.append(wf)\n",
    "    false_alarms.append(false_alarm)"
   ]
  },
  {
   "cell_type": "code",
   "execution_count": 8,
   "metadata": {},
   "outputs": [],
   "source": [
    "ilist = []\n",
    "i = 5\n",
    "while i<3000:\n",
    "    calculations(i)\n",
    "    ilist.append(i)\n",
    "    i=i*2"
   ]
  },
  {
   "cell_type": "code",
   "execution_count": 9,
   "metadata": {},
   "outputs": [
    {
     "data": {
      "image/png": "[encoded data removed]",
      "text/plain": [
       "<Figure size 432x288 with 1 Axes>"
      ]
     },
     "metadata": {
      "needs_background": "light"
     },
     "output_type": "display_data"
    }
   ],
   "source": [
    "# Grouped - Precision, Recall, Binary F1, False Alarm\n",
    "plt.plot(ilist, precision_scores, label='Precison')\n",
    "plt.plot(ilist, recall_scores, label='Recall')\n",
    "plt.plot(ilist, f1_scores, label = 'F1 Score')\n",
    "plt.plot(ilist, false_alarms, label = 'False Alarm Rate')\n",
    "    \n",
    "plt.xlabel('Max Depth')\n",
    "plt.ylabel('Metric Values')\n",
    "plt.title('RF Classification - 10% http dataset (58725, 3)')\n",
    "    \n",
    "leg = plt.legend();\n",
    "\n",
    "plt.ylim((-.1, 1.1))\n",
    "\n",
    "plt.show()"
   ]
  },
  {
   "cell_type": "code",
   "execution_count": 10,
   "metadata": {},
   "outputs": [
    {
     "data": {
      "image/png": "[encoded data removed]",
      "text/plain": [
       "<Figure size 432x288 with 1 Axes>"
      ]
     },
     "metadata": {
      "needs_background": "light"
     },
     "output_type": "display_data"
    }
   ],
   "source": [
    "# Grouped - Precision, Recall, Weighted F1\n",
    "plt.plot(ilist, precision_scores, label='Precison')\n",
    "plt.plot(ilist, recall_scores, label='Recall')\n",
    "plt.plot(ilist, f1_scores,label='Weighted F1')\n",
    "plt.plot(ilist, false_alarms, label = 'False Alarm Rate')\n",
    "    \n",
    "plt.xlabel('Max Depth')\n",
    "plt.ylabel('Metric Values')\n",
    "plt.title('RF Classification - Sample (59000, 38)')\n",
    "    \n",
    "leg = plt.legend();\n",
    "\n",
    "plt.ylim((-.2, 1.2))\n",
    "\n",
    "plt.show()"
   ]
  }
 ],
 "metadata": {
  "kernelspec": {
   "display_name": "Python 3",
   "language": "python",
   "name": "python3"
  },
  "language_info": {
   "codemirror_mode": {
    "name": "ipython",
    "version": 3
   },
   "file_extension": ".py",
   "mimetype": "text/x-python",
   "name": "python",
   "nbconvert_exporter": "python",
   "pygments_lexer": "ipython3",
   "version": "3.8.3"
  }
 },
 "nbformat": 4,
 "nbformat_minor": 4
}
