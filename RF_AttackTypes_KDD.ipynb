{
 "cells": [
  {
   "cell_type": "markdown",
   "metadata": {},
   "source": [
    "#### The goal is to use the Random Forest Classification algorithm to obtain results for the different attack types found in the KDDcup99 dataset. The results are to be displayed in the form of a plot with varying values for the depth of the decision trees. "
   ]
  },
  {
   "cell_type": "code",
   "execution_count": 1,
   "metadata": {},
   "outputs": [
    {
     "name": "stdout",
     "output_type": "stream",
     "text": [
      "(494021, 41)\n",
      "(494021,)\n"
     ]
    }
   ],
   "source": [
    "from sklearn.datasets import fetch_kddcup99\n",
    "import numpy as np\n",
    "\n",
    "# Import 10% of the entire kddcup99 dataset\n",
    "kdd99_data = fetch_kddcup99()\n",
    "X = kdd99_data['data']\n",
    "y = kdd99_data['target']\n",
    "\n",
    "print(X.shape)\n",
    "print(y.shape)"
   ]
  },
  {
   "cell_type": "markdown",
   "metadata": {},
   "source": [
    "Not many of the different attack types are present within the http subset. I wanted to use a subset that contains more attack types to better understand how well the Random Forest Classifier algorithm performs. This reason, in tandem with the fact that the dataset is very large, is why I have chosen to use 10% of the entire dataset. One benefit of using the http dataset was that it only had 3 features. By taking my own sample, the number of features increases. While this is not ideal, the variability in the attack types is better than in the http subset. Perhaps I can add feature selection to this program at a later time. "
   ]
  },
  {
   "cell_type": "code",
   "execution_count": 2,
   "metadata": {},
   "outputs": [
    {
     "name": "stdout",
     "output_type": "stream",
     "text": [
      "(494021, 38)\n",
      "(494021,)\n",
      "[[0 b'tcp' b'http' ... 0.0 0.0 0.0]\n",
      " [0 b'tcp' b'http' ... 0.0 0.0 0.0]\n",
      " [0 b'tcp' b'http' ... 0.0 0.0 0.0]\n",
      " ...\n",
      " [0 b'tcp' b'http' ... 0.0 0.0 0.0]\n",
      " [0 b'tcp' b'http' ... 0.0 0.0 0.0]\n",
      " [0 b'tcp' b'http' ... 0.0 0.0 0.0]]\n"
     ]
    }
   ],
   "source": [
    "# Remove categorical data from X\n",
    "X_num_sample = np.delete(X,[1,2,3],1)\n",
    "print(X_num_sample.shape)\n",
    "print(y.shape)\n",
    "\n",
    "print(X[0:100])"
   ]
  },
  {
   "cell_type": "markdown",
   "metadata": {},
   "source": [
    "The original kddcup99 dataset contains both categorical and numerical data. It is necessary to remove the categorical data at this time, because the algorithm used later on requires numerical input. As it can be seen, the number of examples in X stays at 494,021 and the number of features reduces from 41 to 38 and is now saved in X_num_sample. Below you can find a printout of the first sample of X_num_sample, which shows all 38 features. This is a good check to make sure that categorical features were not missed. "
   ]
  },
  {
   "cell_type": "code",
   "execution_count": 3,
   "metadata": {},
   "outputs": [
    {
     "data": {
      "text/plain": [
       "array([[0, 181, 5450, 0, 0, 0, 0, 0, 1, 0, 0, 0, 0, 0, 0, 0, 0, 0, 0, 8,\n",
       "        8, 0.0, 0.0, 0.0, 0.0, 1.0, 0.0, 0.0, 9, 9, 1.0, 0.0, 0.11, 0.0,\n",
       "        0.0, 0.0, 0.0, 0.0]], dtype=object)"
      ]
     },
     "execution_count": 3,
     "metadata": {},
     "output_type": "execute_result"
    }
   ],
   "source": [
    "# Make sure all categorical columns were removed\n",
    "X_num_sample[0:1]"
   ]
  },
  {
   "cell_type": "markdown",
   "metadata": {},
   "source": [
    "All categorical features were successfully removed from the dataset. Next, the target variables will be manipulated so that they are also represented by numerical values. In this case, each individual attack type is given its own class. I tried to use scikit-learn's label encoder, though this approach proved to be inefficent. This is due to the fact that only a small percentage of the entire dataset is being used and not all attack types exist in each sample. Therefore, if the algorithm is trained using a sample, some of the types may be unaccounted for. Hard-coding the classes resolves this issue, though it may seem a bit exessive.  "
   ]
  },
  {
   "cell_type": "code",
   "execution_count": 4,
   "metadata": {},
   "outputs": [
    {
     "name": "stdout",
     "output_type": "stream",
     "text": [
      "[b'normal.' b'normal.' b'normal.' b'normal.' b'normal.' b'normal.'\n",
      " b'normal.' b'normal.' b'normal.' b'normal.' b'normal.' b'normal.'\n",
      " b'normal.' b'normal.' b'normal.' b'normal.' b'normal.' b'normal.'\n",
      " b'normal.' b'normal.' b'normal.' b'normal.' b'normal.' b'normal.'\n",
      " b'normal.' b'normal.' b'normal.' b'normal.' b'normal.' b'normal.'\n",
      " b'normal.' b'normal.' b'normal.' b'normal.' b'normal.' b'normal.'\n",
      " b'normal.' b'normal.' b'normal.' b'normal.' b'normal.' b'normal.'\n",
      " b'normal.' b'normal.' b'normal.' b'normal.' b'normal.' b'normal.'\n",
      " b'normal.' b'normal.']\n"
     ]
    }
   ],
   "source": [
    "print(y[0:50])"
   ]
  },
  {
   "cell_type": "code",
   "execution_count": 5,
   "metadata": {},
   "outputs": [],
   "source": [
    "# Assign each attack type to a numerical representation of that type\n",
    "for i in range(X.shape[0]):\n",
    "  \n",
    "    if(y[i]==b'normal.'):\n",
    "        y[i] = 0\n",
    "\n",
    "    if(y[i]==b'neptune.'):\n",
    "        y[i] = 1\n",
    "        \n",
    "    if(y[i]==b'smurf.'):\n",
    "         y[i] = 2\n",
    "        \n",
    "    if(y[i]==b'pod.'):\n",
    "         y[i] = 3\n",
    "    \n",
    "    if(y[i]==b'teardrop.'):\n",
    "         y[i] = 4\n",
    "        \n",
    "    if(y[i]==b'land.'):\n",
    "         y[i] = 5\n",
    "        \n",
    "    if(y[i]==b'back.'):\n",
    "         y[i] = 6\n",
    "\n",
    "    if(y[i]==b'buffer_overflow.'): \n",
    "         y[i] = 7\n",
    "    \n",
    "    if(y[i]==b'loadmodule.'):\n",
    "         y[i] = 8\n",
    "       \n",
    "    if(y[i]==b'perl.'): \n",
    "         y[i] = 9\n",
    "    \n",
    "    if(y[i]==b'rootkit.'): \n",
    "         y[i] = 10\n",
    "    \n",
    "    if(y[i]==b'guess_passwd.'):\n",
    "         y[i] = 11\n",
    "    \n",
    "    if(y[i]==b'ftp_write.'):\n",
    "         y[i] = 12\n",
    "    \n",
    "    if(y[i]==b'imap.'):\n",
    "         y[i] = 13\n",
    "    \n",
    "    if(y[i]==b'phf.'):\n",
    "         y[i] = 14\n",
    "    \n",
    "    if(y[i]==b'multihop.'): \n",
    "         y[i] = 15\n",
    "    \n",
    "    if(y[i]==b'warezmaster.'):\n",
    "         y[i] = 16\n",
    "    \n",
    "    if(y[i]==b'warezclient.'):\n",
    "         y[i] = 17\n",
    "    \n",
    "    if(y[i]==b'spy.'):\n",
    "         y[i] = 18\n",
    "       \n",
    "    if(y[i]==b'portsweep.'):\n",
    "         y[i] = 19\n",
    "    \n",
    "    if(y[i]==b'ipsweep.'):\n",
    "         y[i] = 20\n",
    "        \n",
    "    if(y[i]==b'nmap.'): \n",
    "         y[i] = 21\n",
    "        \n",
    "    if(y[i]==b'satan.'):\n",
    "         y[i] = 22"
   ]
  },
  {
   "cell_type": "code",
   "execution_count": 6,
   "metadata": {},
   "outputs": [
    {
     "name": "stdout",
     "output_type": "stream",
     "text": [
      "[ 6  6  6  6  6  6  6  6  6  6  6  6  6  6  6  6  6  6  6  6  6  6  6 13\n",
      "  0  0  0  0  0  0  0  0  0  0  0  0  0  0  0  0  0  0  0  0  0  0  0  0\n",
      "  0  0  0  0  0  0  0  0  0  0  0  0  0  0  0  0  0  0  0  0  0  0  0  0\n",
      "  0  0  0  0  0  0  0  0  0  0  0  0  0  0  0  0  0  0  0  0  0  0  0  0\n",
      "  0  0  0  0]\n",
      "{0, 1, 2, 3, 4, 5, 6, 7, 8, 9, 10, 11, 12, 13, 14, 15, 16, 17, 18, 19, 20, 21, 22}\n",
      "<class 'numpy.ndarray'>\n"
     ]
    }
   ],
   "source": [
    "y = np.int64(y)\n",
    "print(y[40700:40800])\n",
    "print(set(y))\n",
    "print(type(y))"
   ]
  },
  {
   "cell_type": "markdown",
   "metadata": {},
   "source": [
    "Printing 100 values from the y array confirms that the y array was successfully changed to numerical representations of the categorical attack types. The set of y is also printed, showing that all 23 types have been accounted for. Next, the data will be split into training and testing subsets. "
   ]
  },
  {
   "cell_type": "code",
   "execution_count": 7,
   "metadata": {},
   "outputs": [],
   "source": [
    "from sklearn.model_selection import train_test_split \n",
    "X_train, X_test, y_train, y_test = train_test_split(X_num_sample, y, test_size=0.33, random_state=42, stratify = y)"
   ]
  },
  {
   "cell_type": "code",
   "execution_count": 8,
   "metadata": {},
   "outputs": [
    {
     "name": "stdout",
     "output_type": "stream",
     "text": [
      "{0, 1, 2, 3, 4, 5, 6, 7, 8, 9, 10, 11, 12, 13, 14, 15, 16, 17, 18, 19, 20, 21, 22}\n",
      "{3, 4, 5, 6, 7, 8, 10, 11, 12, 13, 14, 15, 16, 17, 19, 20, 21, 22}\n"
     ]
    }
   ],
   "source": [
    "print(set(y_train))\n",
    "print(set(y_test))"
   ]
  },
  {
   "cell_type": "markdown",
   "metadata": {},
   "source": [
    "Here, it can be seen that attack types 14 and 18 were present in the training subset, but were not present in the testing subset. Below, the training subset is used to train the Random Forest Classifier model. The classifier then uses what it learned to predict which points in the X_test subset belong to each attack type. Those predictions are stored in y_pred. For this example an arbitrary value of 50 is used for the number of splits in each tree, which is denoted by the max_depth parameter. The effects of this parameter will be addressed later on. "
   ]
  },
  {
   "cell_type": "code",
   "execution_count": 9,
   "metadata": {},
   "outputs": [],
   "source": [
    "from sklearn.ensemble import RandomForestClassifier\n",
    "from sklearn import metrics\n",
    "clf = RandomForestClassifier(max_depth = 50, random_state = 42)\n",
    "clf.fit(X_train,y_train)\n",
    "y_pred = clf.predict(X_test)\n",
    "y_pred = np.array(y_pred)"
   ]
  },
  {
   "cell_type": "markdown",
   "metadata": {},
   "source": [
    "Next, a confusion matrix and classification report will be produced to better understand how well the Random Forest Classifier algorithm performed. The y_test subset contains the true attack types of X_test and is compared against y_pred, which is what the algorithm predicted the attack types of X_test to be. "
   ]
  },
  {
   "cell_type": "code",
   "execution_count": 10,
   "metadata": {},
   "outputs": [
    {
     "name": "stdout",
     "output_type": "stream",
     "text": [
      "[[  0   0   0   0   0   0   0   0   0   0   0   0   0   0   0   0   0   0\n",
      "    0]\n",
      " [  0  30   0   0   0   0   0   0   0   0   0   0   0   0   0   0   0   0\n",
      "    0]\n",
      " [  0   0 109   0   0   0   0   0   0   0   0   0   0   0   0   0   0   0\n",
      "    0]\n",
      " [  0   0   0   3   0   0   0   0   0   0   0   0   0   0   0   0   0   0\n",
      "    0]\n",
      " [  0   0   0   0 245   0   0   0   0   0   0   0   0   0   0   0   0   0\n",
      "    0]\n",
      " [  0   0   0   0   0   4   0   0   0   0   0   0   0   0   0   0   0   0\n",
      "    0]\n",
      " [  0   0   0   0   0   1   0   0   0   0   0   0   0   0   0   0   0   0\n",
      "    0]\n",
      " [  1   0   0   0   0   0   0   0   0   0   0   0   0   0   0   1   0   0\n",
      "    0]\n",
      " [  0   0   0   0   0   0   0   0   6   0   0   0   0   0   0   0   0   0\n",
      "    0]\n",
      " [  0   1   0   0   0   0   0   0   0   0   0   0   0   0   0   0   0   0\n",
      "    0]\n",
      " [  0   0   0   0   0   0   0   0   0   0   2   0   0   0   0   0   0   0\n",
      "    0]\n",
      " [  0   0   0   0   0   0   0   0   0   0   0   1   0   0   0   0   0   0\n",
      "    0]\n",
      " [  0   0   0   0   0   1   0   0   0   0   0   0   0   0   0   0   0   0\n",
      "    0]\n",
      " [  0   0   0   0   0   0   0   0   0   0   0   0   0   3   0   0   0   0\n",
      "    0]\n",
      " [  0   0   0   0   0   0   0   0   0   0   0   0   0   0 114   0   0   0\n",
      "    0]\n",
      " [  0   0   0   0   0   0   0   0   0   0   0   0   0   0   0 116   0   0\n",
      "    0]\n",
      " [  1   0   0   0   0   0   0   0   0   0   0   0   0   0   0   0 138   0\n",
      "    0]\n",
      " [  2   0   0   0   0   0   0   0   0   0   0   0   0   0   0   0   0  24\n",
      "    0]\n",
      " [  1   0   0   0   0   0   0   0   0   0   0   0   0   0   0   0   0   0\n",
      "  176]]\n",
      "              precision    recall  f1-score   support\n",
      "\n",
      "           0      0.000     0.000     0.000         0\n",
      "           3      0.968     1.000     0.984        30\n",
      "           4      1.000     1.000     1.000       109\n",
      "           5      1.000     1.000     1.000         3\n",
      "           6      1.000     1.000     1.000       245\n",
      "           7      0.667     1.000     0.800         4\n",
      "           8      0.000     0.000     0.000         1\n",
      "          10      0.000     0.000     0.000         2\n",
      "          11      1.000     1.000     1.000         6\n",
      "          12      0.000     0.000     0.000         1\n",
      "          13      1.000     1.000     1.000         2\n",
      "          14      1.000     1.000     1.000         1\n",
      "          15      0.000     0.000     0.000         1\n",
      "          16      1.000     1.000     1.000         3\n",
      "          17      1.000     1.000     1.000       114\n",
      "          19      0.991     1.000     0.996       116\n",
      "          20      1.000     0.993     0.996       139\n",
      "          21      1.000     0.923     0.960        26\n",
      "          22      1.000     0.994     0.997       177\n",
      "\n",
      "    accuracy                          0.991       980\n",
      "   macro avg      0.717     0.732     0.723       980\n",
      "weighted avg      0.992     0.991     0.991       980\n",
      "\n"
     ]
    },
    {
     "name": "stderr",
     "output_type": "stream",
     "text": [
      "c:\\users\\kajia\\appdata\\local\\programs\\python\\python38-32\\lib\\site-packages\\sklearn\\metrics\\_classification.py:1221: UndefinedMetricWarning: Precision and F-score are ill-defined and being set to 0.0 in labels with no predicted samples. Use `zero_division` parameter to control this behavior.\n",
      "  _warn_prf(average, modifier, msg_start, len(result))\n",
      "c:\\users\\kajia\\appdata\\local\\programs\\python\\python38-32\\lib\\site-packages\\sklearn\\metrics\\_classification.py:1221: UndefinedMetricWarning: Recall and F-score are ill-defined and being set to 0.0 in labels with no true samples. Use `zero_division` parameter to control this behavior.\n",
      "  _warn_prf(average, modifier, msg_start, len(result))\n"
     ]
    }
   ],
   "source": [
    "from sklearn import metrics\n",
    "\n",
    "# Print the confusion matrix\n",
    "print(metrics.confusion_matrix(y_test, y_pred))\n",
    "\n",
    "# Print the precision and recall, and other metrics\n",
    "print(metrics.classification_report(y_test, y_pred, digits=3))"
   ]
  },
  {
   "cell_type": "markdown",
   "metadata": {},
   "source": [
    "I am still confused as to why the warning still appears for Precision and F-score being ill-defined. Confusion matricies and the classification report are supposed to work well to evaluate multiclass classifiers because the report calculates the per-class precision and recall and then combines all of them for an overall score. However, it is important to note that F1 scores are not necessarily ideal to compare these kinds of classifiers[23]. I tried using a different method below, but discovered that it is essentially the exact same thing, and that I even get the same scores. "
   ]
  },
  {
   "cell_type": "code",
   "execution_count": 11,
   "metadata": {},
   "outputs": [
    {
     "name": "stdout",
     "output_type": "stream",
     "text": [
      "Precision : 0.7171506101896593\n",
      "Recall    : 0.7321175242609727\n",
      "F-score   : 0.7227827232837072\n",
      "Support   : None\n"
     ]
    }
   ],
   "source": [
    "from sklearn.metrics import precision_recall_fscore_support as score\n",
    "precision,recall,fscore,support=score(y_test,y_pred,average='macro')\n",
    "print('Precision : {}'.format(precision))\n",
    "print('Recall    : {}'.format(recall))\n",
    "print('F-score   : {}'.format(fscore))\n",
    "print('Support   : {}'.format(support))"
   ]
  },
  {
   "cell_type": "markdown",
   "metadata": {},
   "source": [
    "Using the method above, I can select individual scores. This allows me to make an array of scores, which will allow the data to be plotted as the depth value changes."
   ]
  },
  {
   "cell_type": "code",
   "execution_count": 12,
   "metadata": {},
   "outputs": [],
   "source": [
    "recall_scores = []\n",
    "precision_scores = []\n",
    "f1_scores = []\n",
    "\n",
    "\n",
    "def calculations(n):\n",
    "    \n",
    "    clf = RandomForestClassifier(max_depth = n, random_state = 42)\n",
    "    clf.fit(X_train,y_train)\n",
    "    y_pred = clf.predict(X_test)\n",
    "    y_pred = np.array(y_pred)\n",
    "    \n",
    "    precision,recall,fscore,support=score(y_test,y_pred,average='macro')\n",
    "    \n",
    "    recall_scores.append(recall)\n",
    "    precision_scores.append(precision)\n",
    "    f1_scores.append(fscore)\n"
   ]
  },
  {
   "cell_type": "code",
   "execution_count": null,
   "metadata": {},
   "outputs": [],
   "source": [
    "ilist = []\n",
    "i = 5\n",
    "while i<320:\n",
    "    calculations(i)\n",
    "    ilist.append(i)\n",
    "    i=i*2"
   ]
  },
  {
   "cell_type": "code",
   "execution_count": 14,
   "metadata": {},
   "outputs": [
    {
     "data": {
      "image/png": "[encoded data removed]",
      "text/plain": [
       "<Figure size 432x288 with 1 Axes>"
      ]
     },
     "metadata": {
      "needs_background": "light"
     },
     "output_type": "display_data"
    }
   ],
   "source": [
    "    import matplotlib.pyplot as plt\n",
    "    plt.plot(ilist, recall_scores, label='Recall')\n",
    "    plt.plot(ilist, precision_scores, label='Precison')\n",
    "    plt.plot(ilist, f1_scores,label='F1')\n",
    "    \n",
    "    plt.xlabel('Max Depth')\n",
    "    plt.ylabel('Metric Values')\n",
    "    plt.title('RF Classification - Attack Types')\n",
    "    \n",
    "    leg = plt.legend();\n",
    "\n",
    "    plt.show()"
   ]
  },
  {
   "cell_type": "code",
   "execution_count": 15,
   "metadata": {},
   "outputs": [
    {
     "data": {
      "text/plain": [
       "[5, 10, 20, 40, 80, 160]"
      ]
     },
     "execution_count": 15,
     "metadata": {},
     "output_type": "execute_result"
    }
   ],
   "source": [
    "ilist"
   ]
  },
  {
   "cell_type": "markdown",
   "metadata": {},
   "source": [
    "I need to troubleshoot more to figure out why precision and f1 score are ill-defined. My understanding is that at some point in time the equation used to calculate these values is attempting to divide by zero, albeit I am unsure as to why because the denominator of the precision equation is true positives + false positives and should not equal zero. By analyzing the results that I did get, I would say that the data (although potentially incorrect) is showing that 20 is the ideal number of splits to use for the random forest classifier when using all 38 features. However, it would be beneficial to use feature selection and reduce the dimensionality in a way that selects the features that have the most impact on which attack type each instance is. "
   ]
  }
 ],
 "metadata": {
  "kernelspec": {
   "display_name": "Python 3",
   "language": "python",
   "name": "python3"
  },
  "language_info": {
   "codemirror_mode": {
    "name": "ipython",
    "version": 3
   },
   "file_extension": ".py",
   "mimetype": "text/x-python",
   "name": "python",
   "nbconvert_exporter": "python",
   "pygments_lexer": "ipython3",
   "version": "3.8.3"
  }
 },
 "nbformat": 4,
 "nbformat_minor": 4
}
