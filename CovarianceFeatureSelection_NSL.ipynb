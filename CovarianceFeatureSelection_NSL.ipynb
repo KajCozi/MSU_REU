{
 "cells": [
  {
   "cell_type": "markdown",
   "metadata": {},
   "source": [
    "# Can We Improve Results Using Covariance Feature Selection?"
   ]
  },
  {
   "cell_type": "code",
   "execution_count": 1,
   "metadata": {},
   "outputs": [],
   "source": [
    "# Necessary libraries\n",
    "from sklearn.metrics import recall_score\n",
    "from sklearn.metrics import precision_score\n",
    "from sklearn.metrics import f1_score\n",
    "from sklearn.ensemble import IsolationForest\n",
    "from sklearn.neighbors import LocalOutlierFactor\n",
    "import matplotlib.pyplot as plt\n",
    "from sklearn.metrics import confusion_matrix\n",
    "from sklearn.feature_selection import VarianceThreshold\n",
    "import numpy as np\n",
    "import pandas as pd"
   ]
  },
  {
   "cell_type": "code",
   "execution_count": 2,
   "metadata": {},
   "outputs": [
    {
     "name": "stdout",
     "output_type": "stream",
     "text": [
      "<class 'pandas.core.frame.DataFrame'>\n"
     ]
    }
   ],
   "source": [
    "# Import data\n",
    "data = pd.read_csv('KDDTrain+.txt')\n",
    "print(type(data))"
   ]
  },
  {
   "cell_type": "code",
   "execution_count": 3,
   "metadata": {},
   "outputs": [
    {
     "data": {
      "text/html": [
       "<div>\n",
       "<style scoped>\n",
       "    .dataframe tbody tr th:only-of-type {\n",
       "        vertical-align: middle;\n",
       "    }\n",
       "\n",
       "    .dataframe tbody tr th {\n",
       "        vertical-align: top;\n",
       "    }\n",
       "\n",
       "    .dataframe thead th {\n",
       "        text-align: right;\n",
       "    }\n",
       "</style>\n",
       "<table border=\"1\" class=\"dataframe\">\n",
       "  <thead>\n",
       "    <tr style=\"text-align: right;\">\n",
       "      <th></th>\n",
       "      <th>0</th>\n",
       "      <th>tcp</th>\n",
       "      <th>ftp_data</th>\n",
       "      <th>SF</th>\n",
       "      <th>491</th>\n",
       "      <th>0.1</th>\n",
       "      <th>0.2</th>\n",
       "      <th>0.3</th>\n",
       "      <th>0.4</th>\n",
       "      <th>0.5</th>\n",
       "      <th>...</th>\n",
       "      <th>25</th>\n",
       "      <th>0.17.1</th>\n",
       "      <th>0.03</th>\n",
       "      <th>0.17.2</th>\n",
       "      <th>0.00.6</th>\n",
       "      <th>0.00.7</th>\n",
       "      <th>0.00.8</th>\n",
       "      <th>0.05</th>\n",
       "      <th>0.00.9</th>\n",
       "      <th>normal</th>\n",
       "    </tr>\n",
       "  </thead>\n",
       "  <tbody>\n",
       "    <tr>\n",
       "      <th>0</th>\n",
       "      <td>0</td>\n",
       "      <td>udp</td>\n",
       "      <td>other</td>\n",
       "      <td>SF</td>\n",
       "      <td>146</td>\n",
       "      <td>0</td>\n",
       "      <td>0</td>\n",
       "      <td>0</td>\n",
       "      <td>0</td>\n",
       "      <td>0</td>\n",
       "      <td>...</td>\n",
       "      <td>1</td>\n",
       "      <td>0.00</td>\n",
       "      <td>0.60</td>\n",
       "      <td>0.88</td>\n",
       "      <td>0.00</td>\n",
       "      <td>0.00</td>\n",
       "      <td>0.00</td>\n",
       "      <td>0.0</td>\n",
       "      <td>0.00</td>\n",
       "      <td>normal</td>\n",
       "    </tr>\n",
       "    <tr>\n",
       "      <th>1</th>\n",
       "      <td>0</td>\n",
       "      <td>tcp</td>\n",
       "      <td>private</td>\n",
       "      <td>S0</td>\n",
       "      <td>0</td>\n",
       "      <td>0</td>\n",
       "      <td>0</td>\n",
       "      <td>0</td>\n",
       "      <td>0</td>\n",
       "      <td>0</td>\n",
       "      <td>...</td>\n",
       "      <td>26</td>\n",
       "      <td>0.10</td>\n",
       "      <td>0.05</td>\n",
       "      <td>0.00</td>\n",
       "      <td>0.00</td>\n",
       "      <td>1.00</td>\n",
       "      <td>1.00</td>\n",
       "      <td>0.0</td>\n",
       "      <td>0.00</td>\n",
       "      <td>neptune</td>\n",
       "    </tr>\n",
       "    <tr>\n",
       "      <th>2</th>\n",
       "      <td>0</td>\n",
       "      <td>tcp</td>\n",
       "      <td>http</td>\n",
       "      <td>SF</td>\n",
       "      <td>232</td>\n",
       "      <td>8153</td>\n",
       "      <td>0</td>\n",
       "      <td>0</td>\n",
       "      <td>0</td>\n",
       "      <td>0</td>\n",
       "      <td>...</td>\n",
       "      <td>255</td>\n",
       "      <td>1.00</td>\n",
       "      <td>0.00</td>\n",
       "      <td>0.03</td>\n",
       "      <td>0.04</td>\n",
       "      <td>0.03</td>\n",
       "      <td>0.01</td>\n",
       "      <td>0.0</td>\n",
       "      <td>0.01</td>\n",
       "      <td>normal</td>\n",
       "    </tr>\n",
       "    <tr>\n",
       "      <th>3</th>\n",
       "      <td>0</td>\n",
       "      <td>tcp</td>\n",
       "      <td>http</td>\n",
       "      <td>SF</td>\n",
       "      <td>199</td>\n",
       "      <td>420</td>\n",
       "      <td>0</td>\n",
       "      <td>0</td>\n",
       "      <td>0</td>\n",
       "      <td>0</td>\n",
       "      <td>...</td>\n",
       "      <td>255</td>\n",
       "      <td>1.00</td>\n",
       "      <td>0.00</td>\n",
       "      <td>0.00</td>\n",
       "      <td>0.00</td>\n",
       "      <td>0.00</td>\n",
       "      <td>0.00</td>\n",
       "      <td>0.0</td>\n",
       "      <td>0.00</td>\n",
       "      <td>normal</td>\n",
       "    </tr>\n",
       "    <tr>\n",
       "      <th>4</th>\n",
       "      <td>0</td>\n",
       "      <td>tcp</td>\n",
       "      <td>private</td>\n",
       "      <td>REJ</td>\n",
       "      <td>0</td>\n",
       "      <td>0</td>\n",
       "      <td>0</td>\n",
       "      <td>0</td>\n",
       "      <td>0</td>\n",
       "      <td>0</td>\n",
       "      <td>...</td>\n",
       "      <td>19</td>\n",
       "      <td>0.07</td>\n",
       "      <td>0.07</td>\n",
       "      <td>0.00</td>\n",
       "      <td>0.00</td>\n",
       "      <td>0.00</td>\n",
       "      <td>0.00</td>\n",
       "      <td>1.0</td>\n",
       "      <td>1.00</td>\n",
       "      <td>neptune</td>\n",
       "    </tr>\n",
       "  </tbody>\n",
       "</table>\n",
       "<p>5 rows × 42 columns</p>\n",
       "</div>"
      ],
      "text/plain": [
       "   0  tcp ftp_data   SF  491   0.1  0.2  0.3  0.4  0.5  ...   25  0.17.1  \\\n",
       "0  0  udp    other   SF  146     0    0    0    0    0  ...    1    0.00   \n",
       "1  0  tcp  private   S0    0     0    0    0    0    0  ...   26    0.10   \n",
       "2  0  tcp     http   SF  232  8153    0    0    0    0  ...  255    1.00   \n",
       "3  0  tcp     http   SF  199   420    0    0    0    0  ...  255    1.00   \n",
       "4  0  tcp  private  REJ    0     0    0    0    0    0  ...   19    0.07   \n",
       "\n",
       "   0.03  0.17.2  0.00.6  0.00.7  0.00.8  0.05  0.00.9   normal  \n",
       "0  0.60    0.88    0.00    0.00    0.00   0.0    0.00   normal  \n",
       "1  0.05    0.00    0.00    1.00    1.00   0.0    0.00  neptune  \n",
       "2  0.00    0.03    0.04    0.03    0.01   0.0    0.01   normal  \n",
       "3  0.00    0.00    0.00    0.00    0.00   0.0    0.00   normal  \n",
       "4  0.07    0.00    0.00    0.00    0.00   1.0    1.00  neptune  \n",
       "\n",
       "[5 rows x 42 columns]"
      ]
     },
     "execution_count": 3,
     "metadata": {},
     "output_type": "execute_result"
    }
   ],
   "source": [
    "# Remove Difficulty Level\n",
    "data = data.drop('20', axis = 1)\n",
    "data.head()"
   ]
  },
  {
   "cell_type": "code",
   "execution_count": 4,
   "metadata": {},
   "outputs": [],
   "source": [
    "# Remove Categorical Features\n",
    "data = data.drop(['tcp', 'ftp_data', 'SF'], axis = 1)"
   ]
  },
  {
   "cell_type": "code",
   "execution_count": 5,
   "metadata": {},
   "outputs": [],
   "source": [
    "# Take Random Sample\n",
    "data_sample = data.sample(59000)"
   ]
  },
  {
   "cell_type": "code",
   "execution_count": 6,
   "metadata": {},
   "outputs": [
    {
     "data": {
      "text/html": [
       "<div>\n",
       "<style scoped>\n",
       "    .dataframe tbody tr th:only-of-type {\n",
       "        vertical-align: middle;\n",
       "    }\n",
       "\n",
       "    .dataframe tbody tr th {\n",
       "        vertical-align: top;\n",
       "    }\n",
       "\n",
       "    .dataframe thead th {\n",
       "        text-align: right;\n",
       "    }\n",
       "</style>\n",
       "<table border=\"1\" class=\"dataframe\">\n",
       "  <thead>\n",
       "    <tr style=\"text-align: right;\">\n",
       "      <th></th>\n",
       "      <th>0</th>\n",
       "      <th>491</th>\n",
       "      <th>0.1</th>\n",
       "      <th>0.2</th>\n",
       "      <th>0.3</th>\n",
       "      <th>0.4</th>\n",
       "      <th>0.5</th>\n",
       "      <th>0.6</th>\n",
       "      <th>0.7</th>\n",
       "      <th>0.8</th>\n",
       "      <th>...</th>\n",
       "      <th>25</th>\n",
       "      <th>0.17.1</th>\n",
       "      <th>0.03</th>\n",
       "      <th>0.17.2</th>\n",
       "      <th>0.00.6</th>\n",
       "      <th>0.00.7</th>\n",
       "      <th>0.00.8</th>\n",
       "      <th>0.05</th>\n",
       "      <th>0.00.9</th>\n",
       "      <th>normal</th>\n",
       "    </tr>\n",
       "  </thead>\n",
       "  <tbody>\n",
       "    <tr>\n",
       "      <th>57783</th>\n",
       "      <td>0</td>\n",
       "      <td>221</td>\n",
       "      <td>1161</td>\n",
       "      <td>0</td>\n",
       "      <td>0</td>\n",
       "      <td>0</td>\n",
       "      <td>0</td>\n",
       "      <td>0</td>\n",
       "      <td>1</td>\n",
       "      <td>0</td>\n",
       "      <td>...</td>\n",
       "      <td>255</td>\n",
       "      <td>1.00</td>\n",
       "      <td>0.00</td>\n",
       "      <td>1.00</td>\n",
       "      <td>0.06</td>\n",
       "      <td>0.0</td>\n",
       "      <td>0.0</td>\n",
       "      <td>0.0</td>\n",
       "      <td>0.0</td>\n",
       "      <td>normal</td>\n",
       "    </tr>\n",
       "    <tr>\n",
       "      <th>104803</th>\n",
       "      <td>0</td>\n",
       "      <td>294</td>\n",
       "      <td>8760</td>\n",
       "      <td>0</td>\n",
       "      <td>0</td>\n",
       "      <td>0</td>\n",
       "      <td>0</td>\n",
       "      <td>0</td>\n",
       "      <td>1</td>\n",
       "      <td>0</td>\n",
       "      <td>...</td>\n",
       "      <td>255</td>\n",
       "      <td>1.00</td>\n",
       "      <td>0.00</td>\n",
       "      <td>0.01</td>\n",
       "      <td>0.03</td>\n",
       "      <td>0.0</td>\n",
       "      <td>0.0</td>\n",
       "      <td>0.0</td>\n",
       "      <td>0.0</td>\n",
       "      <td>normal</td>\n",
       "    </tr>\n",
       "    <tr>\n",
       "      <th>71025</th>\n",
       "      <td>0</td>\n",
       "      <td>460</td>\n",
       "      <td>7055</td>\n",
       "      <td>0</td>\n",
       "      <td>0</td>\n",
       "      <td>0</td>\n",
       "      <td>0</td>\n",
       "      <td>0</td>\n",
       "      <td>1</td>\n",
       "      <td>0</td>\n",
       "      <td>...</td>\n",
       "      <td>255</td>\n",
       "      <td>1.00</td>\n",
       "      <td>0.00</td>\n",
       "      <td>0.00</td>\n",
       "      <td>0.00</td>\n",
       "      <td>0.0</td>\n",
       "      <td>0.0</td>\n",
       "      <td>0.0</td>\n",
       "      <td>0.0</td>\n",
       "      <td>normal</td>\n",
       "    </tr>\n",
       "    <tr>\n",
       "      <th>90287</th>\n",
       "      <td>9255</td>\n",
       "      <td>1</td>\n",
       "      <td>0</td>\n",
       "      <td>0</td>\n",
       "      <td>0</td>\n",
       "      <td>0</td>\n",
       "      <td>0</td>\n",
       "      <td>0</td>\n",
       "      <td>0</td>\n",
       "      <td>0</td>\n",
       "      <td>...</td>\n",
       "      <td>2</td>\n",
       "      <td>0.01</td>\n",
       "      <td>0.74</td>\n",
       "      <td>1.00</td>\n",
       "      <td>0.00</td>\n",
       "      <td>0.0</td>\n",
       "      <td>0.0</td>\n",
       "      <td>1.0</td>\n",
       "      <td>1.0</td>\n",
       "      <td>portsweep</td>\n",
       "    </tr>\n",
       "    <tr>\n",
       "      <th>17505</th>\n",
       "      <td>0</td>\n",
       "      <td>642</td>\n",
       "      <td>327</td>\n",
       "      <td>0</td>\n",
       "      <td>0</td>\n",
       "      <td>0</td>\n",
       "      <td>0</td>\n",
       "      <td>0</td>\n",
       "      <td>1</td>\n",
       "      <td>0</td>\n",
       "      <td>...</td>\n",
       "      <td>185</td>\n",
       "      <td>0.80</td>\n",
       "      <td>0.10</td>\n",
       "      <td>0.03</td>\n",
       "      <td>0.03</td>\n",
       "      <td>0.0</td>\n",
       "      <td>0.0</td>\n",
       "      <td>0.0</td>\n",
       "      <td>0.0</td>\n",
       "      <td>normal</td>\n",
       "    </tr>\n",
       "  </tbody>\n",
       "</table>\n",
       "<p>5 rows × 39 columns</p>\n",
       "</div>"
      ],
      "text/plain": [
       "           0  491   0.1  0.2  0.3  0.4  0.5  0.6  0.7  0.8  ...   25  0.17.1  \\\n",
       "57783      0  221  1161    0    0    0    0    0    1    0  ...  255    1.00   \n",
       "104803     0  294  8760    0    0    0    0    0    1    0  ...  255    1.00   \n",
       "71025      0  460  7055    0    0    0    0    0    1    0  ...  255    1.00   \n",
       "90287   9255    1     0    0    0    0    0    0    0    0  ...    2    0.01   \n",
       "17505      0  642   327    0    0    0    0    0    1    0  ...  185    0.80   \n",
       "\n",
       "        0.03  0.17.2  0.00.6  0.00.7  0.00.8  0.05  0.00.9     normal  \n",
       "57783   0.00    1.00    0.06     0.0     0.0   0.0     0.0     normal  \n",
       "104803  0.00    0.01    0.03     0.0     0.0   0.0     0.0     normal  \n",
       "71025   0.00    0.00    0.00     0.0     0.0   0.0     0.0     normal  \n",
       "90287   0.74    1.00    0.00     0.0     0.0   1.0     1.0  portsweep  \n",
       "17505   0.10    0.03    0.03     0.0     0.0   0.0     0.0     normal  \n",
       "\n",
       "[5 rows x 39 columns]"
      ]
     },
     "execution_count": 6,
     "metadata": {},
     "output_type": "execute_result"
    }
   ],
   "source": [
    "data_sample.head()"
   ]
  },
  {
   "cell_type": "code",
   "execution_count": 7,
   "metadata": {},
   "outputs": [
    {
     "name": "stdout",
     "output_type": "stream",
     "text": [
      "57783        normal\n",
      "104803       normal\n",
      "71025        normal\n",
      "90287     portsweep\n",
      "17505        normal\n",
      "            ...    \n",
      "22039         satan\n",
      "70605       neptune\n",
      "4942      portsweep\n",
      "116974       normal\n",
      "29796        normal\n",
      "Name: normal, Length: 59000, dtype: object\n",
      "{'smurf', 'warezmaster', 'imap', 'land', 'spy', 'back', 'ftp_write', 'phf', 'perl', 'guess_passwd', 'warezclient', 'normal', 'teardrop', 'rootkit', 'loadmodule', 'portsweep', 'neptune', 'nmap', 'buffer_overflow', 'multihop', 'ipsweep', 'pod', 'satan'}\n",
      "(59000,)\n"
     ]
    }
   ],
   "source": [
    "# Separate source and target variables\n",
    "y = data_sample[data_sample.columns[len(data_sample.columns)-1]]\n",
    "print(y)\n",
    "print(set(y))\n",
    "print(y.shape)"
   ]
  },
  {
   "cell_type": "code",
   "execution_count": 8,
   "metadata": {},
   "outputs": [],
   "source": [
    "# Make target variables numerical\n",
    "pd.set_option('mode.chained_assignment', None)\n",
    "y.loc[y == 'normal'] = 1\n",
    "y.loc[y != 1] = -1\n",
    "y = np.int64(y)"
   ]
  },
  {
   "cell_type": "code",
   "execution_count": 9,
   "metadata": {},
   "outputs": [
    {
     "name": "stdout",
     "output_type": "stream",
     "text": [
      "{1, -1}\n",
      "(59000,)\n"
     ]
    }
   ],
   "source": [
    "print(set(y))\n",
    "print(y.shape)"
   ]
  },
  {
   "cell_type": "code",
   "execution_count": 10,
   "metadata": {},
   "outputs": [
    {
     "name": "stdout",
     "output_type": "stream",
     "text": [
      "            0  491   0.1  0.2  0.3  0.4  0.5  0.6  0.7  0.8  ...  150   25  \\\n",
      "57783       0  221  1161    0    0    0    0    0    1    0  ...    1  255   \n",
      "104803      0  294  8760    0    0    0    0    0    1    0  ...   83  255   \n",
      "71025       0  460  7055    0    0    0    0    0    1    0  ...  255  255   \n",
      "90287    9255    1     0    0    0    0    0    0    0    0  ...  255    2   \n",
      "17505       0  642   327    0    0    0    0    0    1    0  ...   30  185   \n",
      "...       ...  ...   ...  ...  ...  ...  ...  ...  ...  ...  ...  ...  ...   \n",
      "22039       0    1     0    0    0    0    0    0    0    0  ...  255    2   \n",
      "70605       0    0     0    0    0    0    0    0    0    0  ...  255    4   \n",
      "4942    21701    1     0    0    0    0    0    0    0    0  ...  255    2   \n",
      "116974      0  238   296    0    0    0    0    0    1    0  ...   30  255   \n",
      "29796       0  224   295    0    0    0    0    0    1    0  ...  109  255   \n",
      "\n",
      "        0.17.1  0.03  0.17.2  0.00.6  0.00.7  0.00.8  0.05  0.00.9  \n",
      "57783     1.00  0.00    1.00    0.06    0.00    0.00  0.00     0.0  \n",
      "104803    1.00  0.00    0.01    0.03    0.00    0.00  0.00     0.0  \n",
      "71025     1.00  0.00    0.00    0.00    0.00    0.00  0.00     0.0  \n",
      "90287     0.01  0.74    1.00    0.00    0.00    0.00  1.00     1.0  \n",
      "17505     0.80  0.10    0.03    0.03    0.00    0.00  0.00     0.0  \n",
      "...        ...   ...     ...     ...     ...     ...   ...     ...  \n",
      "22039     0.01  0.20    0.56    0.00    0.00    0.00  0.37     0.0  \n",
      "70605     0.02  0.05    0.00    0.00    1.00    1.00  0.00     0.0  \n",
      "4942      0.01  0.73    1.00    0.00    0.00    0.00  1.00     1.0  \n",
      "116974    1.00  0.00    0.03    0.04    0.00    0.00  0.00     0.0  \n",
      "29796     1.00  0.00    0.01    0.02    0.01    0.01  0.00     0.0  \n",
      "\n",
      "[59000 rows x 38 columns]\n"
     ]
    }
   ],
   "source": [
    "og_data = data_sample.iloc[:,:-1]\n",
    "print(og_data)"
   ]
  },
  {
   "cell_type": "code",
   "execution_count": 11,
   "metadata": {},
   "outputs": [
    {
     "name": "stdout",
     "output_type": "stream",
     "text": [
      "Index(['0', '491', '0.1', '0.2', '0.3', '0.4', '0.5', '0.6', '0.7', '0.8',\n",
      "       '0.9', '0.10', '0.11', '0.12', '0.13', '0.14', '0.15', '0.16', '0.17',\n",
      "       '2', '2.1', '0.00', '0.00.1', '0.00.2', '0.00.3', '1.00', '0.00.4',\n",
      "       '0.00.5', '150', '25', '0.17.1', '0.03', '0.17.2', '0.00.6', '0.00.7',\n",
      "       '0.00.8', '0.05', '0.00.9'],\n",
      "      dtype='object')\n"
     ]
    }
   ],
   "source": [
    "X9 = data_sample.iloc[:,:-1]\n",
    "X9.head()\n",
    "print(X9.columns)"
   ]
  },
  {
   "cell_type": "code",
   "execution_count": 12,
   "metadata": {},
   "outputs": [
    {
     "data": {
      "text/html": [
       "<div>\n",
       "<style scoped>\n",
       "    .dataframe tbody tr th:only-of-type {\n",
       "        vertical-align: middle;\n",
       "    }\n",
       "\n",
       "    .dataframe tbody tr th {\n",
       "        vertical-align: top;\n",
       "    }\n",
       "\n",
       "    .dataframe thead th {\n",
       "        text-align: right;\n",
       "    }\n",
       "</style>\n",
       "<table border=\"1\" class=\"dataframe\">\n",
       "  <thead>\n",
       "    <tr style=\"text-align: right;\">\n",
       "      <th></th>\n",
       "      <th>0</th>\n",
       "      <th>491</th>\n",
       "      <th>0.1</th>\n",
       "      <th>0.2</th>\n",
       "      <th>0.3</th>\n",
       "      <th>0.4</th>\n",
       "      <th>0.5</th>\n",
       "      <th>0.6</th>\n",
       "      <th>0.7</th>\n",
       "      <th>0.8</th>\n",
       "      <th>...</th>\n",
       "      <th>150</th>\n",
       "      <th>25</th>\n",
       "      <th>0.17.1</th>\n",
       "      <th>0.03</th>\n",
       "      <th>0.17.2</th>\n",
       "      <th>0.00.6</th>\n",
       "      <th>0.00.7</th>\n",
       "      <th>0.00.8</th>\n",
       "      <th>0.05</th>\n",
       "      <th>0.00.9</th>\n",
       "    </tr>\n",
       "  </thead>\n",
       "  <tbody>\n",
       "    <tr>\n",
       "      <th>57783</th>\n",
       "      <td>0</td>\n",
       "      <td>221</td>\n",
       "      <td>1161</td>\n",
       "      <td>0</td>\n",
       "      <td>0</td>\n",
       "      <td>0</td>\n",
       "      <td>0</td>\n",
       "      <td>0</td>\n",
       "      <td>1</td>\n",
       "      <td>0</td>\n",
       "      <td>...</td>\n",
       "      <td>1</td>\n",
       "      <td>255</td>\n",
       "      <td>1.00</td>\n",
       "      <td>0.00</td>\n",
       "      <td>1.00</td>\n",
       "      <td>0.06</td>\n",
       "      <td>0.0</td>\n",
       "      <td>0.0</td>\n",
       "      <td>0.0</td>\n",
       "      <td>0.0</td>\n",
       "    </tr>\n",
       "    <tr>\n",
       "      <th>104803</th>\n",
       "      <td>0</td>\n",
       "      <td>294</td>\n",
       "      <td>8760</td>\n",
       "      <td>0</td>\n",
       "      <td>0</td>\n",
       "      <td>0</td>\n",
       "      <td>0</td>\n",
       "      <td>0</td>\n",
       "      <td>1</td>\n",
       "      <td>0</td>\n",
       "      <td>...</td>\n",
       "      <td>83</td>\n",
       "      <td>255</td>\n",
       "      <td>1.00</td>\n",
       "      <td>0.00</td>\n",
       "      <td>0.01</td>\n",
       "      <td>0.03</td>\n",
       "      <td>0.0</td>\n",
       "      <td>0.0</td>\n",
       "      <td>0.0</td>\n",
       "      <td>0.0</td>\n",
       "    </tr>\n",
       "    <tr>\n",
       "      <th>71025</th>\n",
       "      <td>0</td>\n",
       "      <td>460</td>\n",
       "      <td>7055</td>\n",
       "      <td>0</td>\n",
       "      <td>0</td>\n",
       "      <td>0</td>\n",
       "      <td>0</td>\n",
       "      <td>0</td>\n",
       "      <td>1</td>\n",
       "      <td>0</td>\n",
       "      <td>...</td>\n",
       "      <td>255</td>\n",
       "      <td>255</td>\n",
       "      <td>1.00</td>\n",
       "      <td>0.00</td>\n",
       "      <td>0.00</td>\n",
       "      <td>0.00</td>\n",
       "      <td>0.0</td>\n",
       "      <td>0.0</td>\n",
       "      <td>0.0</td>\n",
       "      <td>0.0</td>\n",
       "    </tr>\n",
       "    <tr>\n",
       "      <th>90287</th>\n",
       "      <td>9255</td>\n",
       "      <td>1</td>\n",
       "      <td>0</td>\n",
       "      <td>0</td>\n",
       "      <td>0</td>\n",
       "      <td>0</td>\n",
       "      <td>0</td>\n",
       "      <td>0</td>\n",
       "      <td>0</td>\n",
       "      <td>0</td>\n",
       "      <td>...</td>\n",
       "      <td>255</td>\n",
       "      <td>2</td>\n",
       "      <td>0.01</td>\n",
       "      <td>0.74</td>\n",
       "      <td>1.00</td>\n",
       "      <td>0.00</td>\n",
       "      <td>0.0</td>\n",
       "      <td>0.0</td>\n",
       "      <td>1.0</td>\n",
       "      <td>1.0</td>\n",
       "    </tr>\n",
       "    <tr>\n",
       "      <th>17505</th>\n",
       "      <td>0</td>\n",
       "      <td>642</td>\n",
       "      <td>327</td>\n",
       "      <td>0</td>\n",
       "      <td>0</td>\n",
       "      <td>0</td>\n",
       "      <td>0</td>\n",
       "      <td>0</td>\n",
       "      <td>1</td>\n",
       "      <td>0</td>\n",
       "      <td>...</td>\n",
       "      <td>30</td>\n",
       "      <td>185</td>\n",
       "      <td>0.80</td>\n",
       "      <td>0.10</td>\n",
       "      <td>0.03</td>\n",
       "      <td>0.03</td>\n",
       "      <td>0.0</td>\n",
       "      <td>0.0</td>\n",
       "      <td>0.0</td>\n",
       "      <td>0.0</td>\n",
       "    </tr>\n",
       "  </tbody>\n",
       "</table>\n",
       "<p>5 rows × 38 columns</p>\n",
       "</div>"
      ],
      "text/plain": [
       "           0  491   0.1  0.2  0.3  0.4  0.5  0.6  0.7  0.8  ...  150   25  \\\n",
       "57783      0  221  1161    0    0    0    0    0    1    0  ...    1  255   \n",
       "104803     0  294  8760    0    0    0    0    0    1    0  ...   83  255   \n",
       "71025      0  460  7055    0    0    0    0    0    1    0  ...  255  255   \n",
       "90287   9255    1     0    0    0    0    0    0    0    0  ...  255    2   \n",
       "17505      0  642   327    0    0    0    0    0    1    0  ...   30  185   \n",
       "\n",
       "        0.17.1  0.03  0.17.2  0.00.6  0.00.7  0.00.8  0.05  0.00.9  \n",
       "57783     1.00  0.00    1.00    0.06     0.0     0.0   0.0     0.0  \n",
       "104803    1.00  0.00    0.01    0.03     0.0     0.0   0.0     0.0  \n",
       "71025     1.00  0.00    0.00    0.00     0.0     0.0   0.0     0.0  \n",
       "90287     0.01  0.74    1.00    0.00     0.0     0.0   1.0     1.0  \n",
       "17505     0.80  0.10    0.03    0.03     0.0     0.0   0.0     0.0  \n",
       "\n",
       "[5 rows x 38 columns]"
      ]
     },
     "execution_count": 12,
     "metadata": {},
     "output_type": "execute_result"
    }
   ],
   "source": [
    "X8 = data_sample.iloc[:,:-1]\n",
    "X8.head()"
   ]
  },
  {
   "cell_type": "code",
   "execution_count": 13,
   "metadata": {},
   "outputs": [],
   "source": [
    "X7 = data_sample.iloc[:,:-1]"
   ]
  },
  {
   "cell_type": "code",
   "execution_count": 14,
   "metadata": {},
   "outputs": [],
   "source": [
    "correlated_features_9 = set()\n",
    "correlation_matrix_9 = X9.corr()\n",
    "\n",
    "correlated_features_8 = set()\n",
    "correlation_matrix_8 = X8.corr()\n",
    "\n",
    "correlated_features_7 = set()\n",
    "correlation_matrix_7 = X7.corr()"
   ]
  },
  {
   "cell_type": "code",
   "execution_count": 15,
   "metadata": {},
   "outputs": [],
   "source": [
    "for i in range(len(correlation_matrix_9.columns)):\n",
    "    for j in range(i):\n",
    "        if abs(correlation_matrix_9.iloc[i,j])>.9:\n",
    "            colname = correlation_matrix_9.columns[i]\n",
    "            correlated_features_9.add(colname)"
   ]
  },
  {
   "cell_type": "code",
   "execution_count": 16,
   "metadata": {},
   "outputs": [],
   "source": [
    "for i in range(len(correlation_matrix_8.columns)):\n",
    "    for j in range(i):\n",
    "        if abs(correlation_matrix_8.iloc[i,j])>.8:\n",
    "            colname = correlation_matrix_8.columns[i]\n",
    "            correlated_features_8.add(colname)"
   ]
  },
  {
   "cell_type": "code",
   "execution_count": 17,
   "metadata": {},
   "outputs": [],
   "source": [
    "for i in range(len(correlation_matrix_7.columns)):\n",
    "    for j in range(i):\n",
    "        if abs(correlation_matrix_7.iloc[i,j])>.7:\n",
    "            colname = correlation_matrix_7.columns[i]\n",
    "            correlated_features_7.add(colname)"
   ]
  },
  {
   "cell_type": "code",
   "execution_count": 18,
   "metadata": {},
   "outputs": [
    {
     "name": "stdout",
     "output_type": "stream",
     "text": [
      "7\n",
      "9\n",
      "11\n"
     ]
    }
   ],
   "source": [
    "print(len(correlated_features_9))\n",
    "print(len(correlated_features_8))\n",
    "print(len(correlated_features_7))\n"
   ]
  },
  {
   "cell_type": "code",
   "execution_count": 19,
   "metadata": {},
   "outputs": [],
   "source": [
    "X9.drop(labels = correlated_features_9, axis = 1, inplace = True)\n",
    "X8.drop(labels = correlated_features_8, axis = 1, inplace = True)\n",
    "X7.drop(labels = correlated_features_7, axis = 1, inplace = True)"
   ]
  },
  {
   "cell_type": "code",
   "execution_count": 20,
   "metadata": {},
   "outputs": [],
   "source": [
    "# Original Data - 38 Features\n",
    "recall_scores_lof = []\n",
    "precision_scores_lof = []\n",
    "f1_scores_lof = []\n",
    "weighted_f1_scores_lof = []\n",
    "false_alarms_lof = []\n",
    "\n",
    "\n",
    "def lof_calculations(n):    \n",
    "    \n",
    "    lof = LocalOutlierFactor(n_neighbors = n)\n",
    "    y_pred = lof.fit_predict(og_data)\n",
    "    y_pred = np.array(y_pred)\n",
    "    \n",
    "    r = recall_score(y, y_pred, pos_label = -1)\n",
    "    p = precision_score(y, y_pred, pos_label = -1)\n",
    "    f = f1_score(y, y_pred, pos_label = -1)\n",
    "    wf = f1_score(y, y_pred, average = 'weighted')\n",
    "    \n",
    "    tn, fp, fn, tp = confusion_matrix(y,y_pred).ravel()\n",
    "    false_alarm = fp/(fp+tn)\n",
    "   \n",
    "    recall_scores_lof.append(r)\n",
    "    precision_scores_lof.append(p)\n",
    "    f1_scores_lof.append(f)\n",
    "    weighted_f1_scores_lof.append(wf)\n",
    "    false_alarms_lof.append(false_alarm)"
   ]
  },
  {
   "cell_type": "code",
   "execution_count": 21,
   "metadata": {},
   "outputs": [],
   "source": [
    "# .9+ Threshold\n",
    "recall_scores_lof2 = []\n",
    "precision_scores_lof2 = []\n",
    "f1_scores_lof2 = []\n",
    "weighted_f1_scores_lof2 = []\n",
    "false_alarms_lof2 = []\n",
    "\n",
    "\n",
    "def lof_calculations2(n):    \n",
    "    \n",
    "    lof = LocalOutlierFactor(n_neighbors = n)\n",
    "    y_pred = lof.fit_predict(X9)\n",
    "    y_pred = np.array(y_pred)\n",
    "    \n",
    "    r = recall_score(y, y_pred, pos_label = -1)\n",
    "    p = precision_score(y, y_pred, pos_label = -1)\n",
    "    f = f1_score(y, y_pred, pos_label = -1)\n",
    "    wf = f1_score(y, y_pred, average = 'weighted')\n",
    "    \n",
    "    tn, fp, fn, tp = confusion_matrix(y,y_pred).ravel()\n",
    "    false_alarm = fp/(fp+tn)\n",
    "   \n",
    "    recall_scores_lof2.append(r)\n",
    "    precision_scores_lof2.append(p)\n",
    "    f1_scores_lof2.append(f)\n",
    "    weighted_f1_scores_lof2.append(wf)\n",
    "    false_alarms_lof2.append(false_alarm)"
   ]
  },
  {
   "cell_type": "code",
   "execution_count": 22,
   "metadata": {},
   "outputs": [],
   "source": [
    "# .8+ Threshold\n",
    "recall_scores_lof3 = []\n",
    "precision_scores_lof3 = []\n",
    "f1_scores_lof3 = []\n",
    "weighted_f1_scores_lof3 = []\n",
    "false_alarms_lof3 = []\n",
    "\n",
    "\n",
    "def lof_calculations3(n):    \n",
    "    \n",
    "    lof = LocalOutlierFactor(n_neighbors = n)\n",
    "    y_pred = lof.fit_predict(X8)\n",
    "    y_pred = np.array(y_pred)\n",
    "    \n",
    "    r = recall_score(y, y_pred, pos_label = -1)\n",
    "    p = precision_score(y, y_pred, pos_label = -1)\n",
    "    f = f1_score(y, y_pred, pos_label = -1)\n",
    "    wf = f1_score(y, y_pred, average = 'weighted')\n",
    "    \n",
    "    tn, fp, fn, tp = confusion_matrix(y,y_pred).ravel()\n",
    "    false_alarm = fp/(fp+tn)\n",
    "   \n",
    "    recall_scores_lof3.append(r)\n",
    "    precision_scores_lof3.append(p)\n",
    "    f1_scores_lof3.append(f)\n",
    "    weighted_f1_scores_lof3.append(wf)\n",
    "    false_alarms_lof3.append(false_alarm)"
   ]
  },
  {
   "cell_type": "code",
   "execution_count": 23,
   "metadata": {},
   "outputs": [],
   "source": [
    "# .7+ Threshold\n",
    "recall_scores_lof4 = []\n",
    "precision_scores_lof4 = []\n",
    "f1_scores_lof4 = []\n",
    "weighted_f1_scores_lof4 = []\n",
    "false_alarms_lof4 = []\n",
    "\n",
    "\n",
    "def lof_calculations4(n):    \n",
    "    \n",
    "    lof = LocalOutlierFactor(n_neighbors = n)\n",
    "    y_pred = lof.fit_predict(X7)\n",
    "    y_pred = np.array(y_pred)\n",
    "    \n",
    "    r = recall_score(y, y_pred, pos_label = -1)\n",
    "    p = precision_score(y, y_pred, pos_label = -1)\n",
    "    f = f1_score(y, y_pred, pos_label = -1)\n",
    "    wf = f1_score(y, y_pred, average = 'weighted')\n",
    "    \n",
    "    tn, fp, fn, tp = confusion_matrix(y,y_pred).ravel()\n",
    "    false_alarm = fp/(fp+tn)\n",
    "   \n",
    "    recall_scores_lof4.append(r)\n",
    "    precision_scores_lof4.append(p)\n",
    "    f1_scores_lof4.append(f)\n",
    "    weighted_f1_scores_lof4.append(wf)\n",
    "    false_alarms_lof4.append(false_alarm)"
   ]
  },
  {
   "cell_type": "code",
   "execution_count": 24,
   "metadata": {},
   "outputs": [],
   "source": [
    "ilist = []\n",
    "\n",
    "i = 5\n",
    "while i <= 400:\n",
    "    lof_calculations(i)\n",
    "    lof_calculations2(i)\n",
    "    lof_calculations3(i)\n",
    "    lof_calculations4(i)\n",
    "    ilist.append(i)\n",
    "    i = i*2"
   ]
  },
  {
   "cell_type": "code",
   "execution_count": 25,
   "metadata": {},
   "outputs": [
    {
     "data": {
      "image/png": "[encoded data removed]",
      "text/plain": [
       "<Figure size 432x288 with 1 Axes>"
      ]
     },
     "metadata": {
      "needs_background": "light"
     },
     "output_type": "display_data"
    }
   ],
   "source": [
    "# plt.figure(figsize = (8,5))\n",
    "\n",
    "plt.plot(ilist, precision_scores_lof, marker='o', linewidth=2, markersize=7, label='No Feature Selection')\n",
    "plt.plot(ilist, precision_scores_lof2, marker='o', linewidth=2, markersize=7,label='Threshold .9+')\n",
    "plt.plot(ilist, precision_scores_lof3, marker='o', linewidth=2, markersize=7, label='Threshold .8+')\n",
    "plt.plot(ilist, precision_scores_lof4, marker='o', linewidth=2, markersize=7, label='Threshold .7+')\n",
    "\n",
    "    \n",
    "plt.xlabel('Number of Nearest Neighbors',fontsize = 18)\n",
    "plt.ylabel('Precision Score',fontsize = 18)\n",
    "plt.title('LOF - Feature Selection NSL-KDD', fontsize = 20)\n",
    "    \n",
    "leg = plt.legend();\n",
    "\n",
    "plt.ylim((-.1, 1.1))\n",
    "\n",
    "plt.show()"
   ]
  },
  {
   "cell_type": "code",
   "execution_count": 26,
   "metadata": {},
   "outputs": [
    {
     "data": {
      "image/png": "[encoded data removed]",
      "text/plain": [
       "<Figure size 432x288 with 1 Axes>"
      ]
     },
     "metadata": {
      "needs_background": "light"
     },
     "output_type": "display_data"
    }
   ],
   "source": [
    "# plt.figure(figsize = (8,5))\n",
    "\n",
    "plt.plot(ilist, recall_scores_lof, marker='o', linewidth=2, markersize=7, label='No Feature Selection')\n",
    "plt.plot(ilist, recall_scores_lof2, marker='o', linewidth=2, markersize=7, label='Threshold .9+')\n",
    "plt.plot(ilist, recall_scores_lof3, marker='o', linewidth=2, markersize=7, label='Threshold .8+')\n",
    "plt.plot(ilist, recall_scores_lof4, marker='o', linewidth=2, markersize=7, label='Threshold .7+')\n",
    "\n",
    "    \n",
    "plt.xlabel('Number of Nearest Neighbors')\n",
    "plt.ylabel('Recall Score')\n",
    "plt.title('LOF - Feature Selection NSL-KDD')\n",
    "    \n",
    "leg = plt.legend();\n",
    "\n",
    "plt.ylim((-.1, 1.1))\n",
    "\n",
    "plt.show()"
   ]
  },
  {
   "cell_type": "code",
   "execution_count": 27,
   "metadata": {},
   "outputs": [
    {
     "data": {
      "image/png": "[encoded data removed]",
      "text/plain": [
       "<Figure size 576x360 with 1 Axes>"
      ]
     },
     "metadata": {
      "needs_background": "light"
     },
     "output_type": "display_data"
    }
   ],
   "source": [
    "plt.figure(figsize = (8,5))\n",
    "\n",
    "plt.plot(ilist, weighted_f1_scores_lof, marker='o', linewidth=2, markersize=7, label='No Feature Selection')\n",
    "plt.plot(ilist, weighted_f1_scores_lof2, marker='o', linewidth=2, markersize=7, label='Threshold .9+')\n",
    "plt.plot(ilist, weighted_f1_scores_lof3, marker='o', linewidth=2, markersize=7, label='Threshold .8+')\n",
    "plt.plot(ilist, weighted_f1_scores_lof4, marker='o', linewidth=2, markersize=7, label='Threshold .7+')\n",
    "\n",
    "    \n",
    "plt.xlabel('Number of Nearest Neighbors')\n",
    "plt.ylabel('Weighted F1 Score')\n",
    "plt.title('LOF - Feature Selection NSL-KDD')\n",
    "    \n",
    "leg = plt.legend();\n",
    "\n",
    "plt.ylim((-.1, 1.1))\n",
    "\n",
    "plt.show()"
   ]
  },
  {
   "cell_type": "code",
   "execution_count": 28,
   "metadata": {},
   "outputs": [
    {
     "data": {
      "image/png": "[encoded data removed]",
      "text/plain": [
       "<Figure size 432x288 with 1 Axes>"
      ]
     },
     "metadata": {
      "needs_background": "light"
     },
     "output_type": "display_data"
    }
   ],
   "source": [
    "# plt.figure(figsize = (8,5))\n",
    "\n",
    "plt.plot(ilist, false_alarms_lof, marker='o', linewidth=2, markersize=7, label='No Feature Selection')\n",
    "plt.plot(ilist, false_alarms_lof2, marker='o', linewidth=2, markersize=7, label='Threshold .9+')\n",
    "plt.plot(ilist, false_alarms_lof3, marker='o', linewidth=2, markersize=7, label='Threshold .8+')\n",
    "plt.plot(ilist, false_alarms_lof4, marker='o', linewidth=2, markersize=7, label='Threshold .7+')\n",
    "\n",
    "    \n",
    "plt.xlabel('Number of Nearest Neighbors', fontsize = 18)\n",
    "plt.ylabel('False Alarm Rate', fontsize = 18)\n",
    "plt.title('LOF - Feature Selection NSL-KDD', fontsize = 20)\n",
    "    \n",
    "leg = plt.legend();\n",
    "\n",
    "plt.ylim((-.1, 1.1))\n",
    "\n",
    "plt.show()"
   ]
  },
  {
   "cell_type": "code",
   "execution_count": 29,
   "metadata": {},
   "outputs": [],
   "source": [
    "# For single calculations\n",
    "\n",
    "def single_calculation(n):\n",
    "   \n",
    "    lof = LocalOutlierFactor(n_neighbors = n)\n",
    "    y_pred = lof.fit_predict(X7)\n",
    "    y_pred = np.array(y_pred)\n",
    "    \n",
    "    p = precision_score(y, y_pred, pos_label = -1)\n",
    "    r = recall_score(y, y_pred, pos_label = -1)\n",
    "    f = f1_score(y, y_pred, pos_label = -1)\n",
    "    wf = f1_score(y, y_pred, average = 'weighted')\n",
    "    \n",
    "    tn, fp, fn, tp = confusion_matrix(y,y_pred).ravel()\n",
    "    false_alarm = fp/(fp+tn) \n",
    "    print('Value of Nearest Neighbor Parameter:', n)\n",
    "    print('Precision:',p)\n",
    "    print('Recall:',r)\n",
    "    print('Weighted F1:',wf)\n",
    "    print('False Alarm Rate:', false_alarm)"
   ]
  },
  {
   "cell_type": "code",
   "execution_count": 30,
   "metadata": {},
   "outputs": [
    {
     "name": "stdout",
     "output_type": "stream",
     "text": [
      "Value of Nearest Neighbor Parameter: 5\n",
      "Precision: 0.6122649452708392\n",
      "Recall: 0.15861993746818875\n",
      "Weighted F1: 0.4853894324430775\n",
      "False Alarm Rate: 0.8413800625318112\n"
     ]
    }
   ],
   "source": [
    "single_calculation(5)"
   ]
  },
  {
   "cell_type": "code",
   "execution_count": 31,
   "metadata": {},
   "outputs": [
    {
     "name": "stdout",
     "output_type": "stream",
     "text": [
      "Value of Nearest Neighbor Parameter: 4\n",
      "Precision: 0.6188187681800936\n",
      "Recall: 0.17788846069948375\n",
      "Weighted F1: 0.49698815156846216\n",
      "False Alarm Rate: 0.8221115393005163\n"
     ]
    }
   ],
   "source": [
    "single_calculation(4)"
   ]
  },
  {
   "cell_type": "code",
   "execution_count": 32,
   "metadata": {},
   "outputs": [
    {
     "name": "stdout",
     "output_type": "stream",
     "text": [
      "Value of Nearest Neighbor Parameter: 3\n",
      "Precision: 0.6045751633986928\n",
      "Recall: 0.1950483530865993\n",
      "Weighted F1: 0.5035481301676843\n",
      "False Alarm Rate: 0.8049516469134007\n"
     ]
    }
   ],
   "source": [
    "single_calculation(3)"
   ]
  },
  {
   "cell_type": "code",
   "execution_count": 33,
   "metadata": {},
   "outputs": [
    {
     "name": "stdout",
     "output_type": "stream",
     "text": [
      "0.6122649452708392\n",
      "0.8413800625318112\n"
     ]
    }
   ],
   "source": [
    "print(max(precision_scores_lof4))\n",
    "print(min(false_alarms_lof4))"
   ]
  },
  {
   "cell_type": "code",
   "execution_count": 34,
   "metadata": {},
   "outputs": [
    {
     "data": {
      "text/plain": [
       "[5, 10, 20, 40, 80, 160, 320]"
      ]
     },
     "execution_count": 34,
     "metadata": {},
     "output_type": "execute_result"
    }
   ],
   "source": [
    "ilist"
   ]
  },
  {
   "cell_type": "code",
   "execution_count": null,
   "metadata": {},
   "outputs": [],
   "source": [
    "single_calculation"
   ]
  }
 ],
 "metadata": {
  "kernelspec": {
   "display_name": "Python 3",
   "language": "python",
   "name": "python3"
  },
  "language_info": {
   "codemirror_mode": {
    "name": "ipython",
    "version": 3
   },
   "file_extension": ".py",
   "mimetype": "text/x-python",
   "name": "python",
   "nbconvert_exporter": "python",
   "pygments_lexer": "ipython3",
   "version": "3.8.3"
  }
 },
 "nbformat": 4,
 "nbformat_minor": 4
}
