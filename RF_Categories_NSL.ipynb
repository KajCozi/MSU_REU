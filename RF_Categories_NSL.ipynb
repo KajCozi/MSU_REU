{
 "cells": [
  {
   "cell_type": "markdown",
   "metadata": {},
   "source": [
    "#### The goal is to use the Random Forest Classification algorithm to obtain results for the different attack categories found in the KDDcup99 dataset. The results are to be displayed in the form of a plot with varying values for the depth of the decision trees. "
   ]
  },
  {
   "cell_type": "code",
   "execution_count": 1,
   "metadata": {},
   "outputs": [],
   "source": [
    "# Import data\n",
    "import pandas as pd\n",
    "import numpy as np\n",
    "data = pd.read_csv('KDDTrain+.txt')"
   ]
  },
  {
   "cell_type": "code",
   "execution_count": 2,
   "metadata": {},
   "outputs": [
    {
     "data": {
      "text/html": [
       "<div>\n",
       "<style scoped>\n",
       "    .dataframe tbody tr th:only-of-type {\n",
       "        vertical-align: middle;\n",
       "    }\n",
       "\n",
       "    .dataframe tbody tr th {\n",
       "        vertical-align: top;\n",
       "    }\n",
       "\n",
       "    .dataframe thead th {\n",
       "        text-align: right;\n",
       "    }\n",
       "</style>\n",
       "<table border=\"1\" class=\"dataframe\">\n",
       "  <thead>\n",
       "    <tr style=\"text-align: right;\">\n",
       "      <th></th>\n",
       "      <th>0</th>\n",
       "      <th>tcp</th>\n",
       "      <th>ftp_data</th>\n",
       "      <th>SF</th>\n",
       "      <th>491</th>\n",
       "      <th>0.1</th>\n",
       "      <th>0.2</th>\n",
       "      <th>0.3</th>\n",
       "      <th>0.4</th>\n",
       "      <th>0.5</th>\n",
       "      <th>...</th>\n",
       "      <th>25</th>\n",
       "      <th>0.17.1</th>\n",
       "      <th>0.03</th>\n",
       "      <th>0.17.2</th>\n",
       "      <th>0.00.6</th>\n",
       "      <th>0.00.7</th>\n",
       "      <th>0.00.8</th>\n",
       "      <th>0.05</th>\n",
       "      <th>0.00.9</th>\n",
       "      <th>normal</th>\n",
       "    </tr>\n",
       "  </thead>\n",
       "  <tbody>\n",
       "    <tr>\n",
       "      <th>0</th>\n",
       "      <td>0</td>\n",
       "      <td>udp</td>\n",
       "      <td>other</td>\n",
       "      <td>SF</td>\n",
       "      <td>146</td>\n",
       "      <td>0</td>\n",
       "      <td>0</td>\n",
       "      <td>0</td>\n",
       "      <td>0</td>\n",
       "      <td>0</td>\n",
       "      <td>...</td>\n",
       "      <td>1</td>\n",
       "      <td>0.00</td>\n",
       "      <td>0.60</td>\n",
       "      <td>0.88</td>\n",
       "      <td>0.00</td>\n",
       "      <td>0.00</td>\n",
       "      <td>0.00</td>\n",
       "      <td>0.0</td>\n",
       "      <td>0.00</td>\n",
       "      <td>normal</td>\n",
       "    </tr>\n",
       "    <tr>\n",
       "      <th>1</th>\n",
       "      <td>0</td>\n",
       "      <td>tcp</td>\n",
       "      <td>private</td>\n",
       "      <td>S0</td>\n",
       "      <td>0</td>\n",
       "      <td>0</td>\n",
       "      <td>0</td>\n",
       "      <td>0</td>\n",
       "      <td>0</td>\n",
       "      <td>0</td>\n",
       "      <td>...</td>\n",
       "      <td>26</td>\n",
       "      <td>0.10</td>\n",
       "      <td>0.05</td>\n",
       "      <td>0.00</td>\n",
       "      <td>0.00</td>\n",
       "      <td>1.00</td>\n",
       "      <td>1.00</td>\n",
       "      <td>0.0</td>\n",
       "      <td>0.00</td>\n",
       "      <td>neptune</td>\n",
       "    </tr>\n",
       "    <tr>\n",
       "      <th>2</th>\n",
       "      <td>0</td>\n",
       "      <td>tcp</td>\n",
       "      <td>http</td>\n",
       "      <td>SF</td>\n",
       "      <td>232</td>\n",
       "      <td>8153</td>\n",
       "      <td>0</td>\n",
       "      <td>0</td>\n",
       "      <td>0</td>\n",
       "      <td>0</td>\n",
       "      <td>...</td>\n",
       "      <td>255</td>\n",
       "      <td>1.00</td>\n",
       "      <td>0.00</td>\n",
       "      <td>0.03</td>\n",
       "      <td>0.04</td>\n",
       "      <td>0.03</td>\n",
       "      <td>0.01</td>\n",
       "      <td>0.0</td>\n",
       "      <td>0.01</td>\n",
       "      <td>normal</td>\n",
       "    </tr>\n",
       "    <tr>\n",
       "      <th>3</th>\n",
       "      <td>0</td>\n",
       "      <td>tcp</td>\n",
       "      <td>http</td>\n",
       "      <td>SF</td>\n",
       "      <td>199</td>\n",
       "      <td>420</td>\n",
       "      <td>0</td>\n",
       "      <td>0</td>\n",
       "      <td>0</td>\n",
       "      <td>0</td>\n",
       "      <td>...</td>\n",
       "      <td>255</td>\n",
       "      <td>1.00</td>\n",
       "      <td>0.00</td>\n",
       "      <td>0.00</td>\n",
       "      <td>0.00</td>\n",
       "      <td>0.00</td>\n",
       "      <td>0.00</td>\n",
       "      <td>0.0</td>\n",
       "      <td>0.00</td>\n",
       "      <td>normal</td>\n",
       "    </tr>\n",
       "    <tr>\n",
       "      <th>4</th>\n",
       "      <td>0</td>\n",
       "      <td>tcp</td>\n",
       "      <td>private</td>\n",
       "      <td>REJ</td>\n",
       "      <td>0</td>\n",
       "      <td>0</td>\n",
       "      <td>0</td>\n",
       "      <td>0</td>\n",
       "      <td>0</td>\n",
       "      <td>0</td>\n",
       "      <td>...</td>\n",
       "      <td>19</td>\n",
       "      <td>0.07</td>\n",
       "      <td>0.07</td>\n",
       "      <td>0.00</td>\n",
       "      <td>0.00</td>\n",
       "      <td>0.00</td>\n",
       "      <td>0.00</td>\n",
       "      <td>1.0</td>\n",
       "      <td>1.00</td>\n",
       "      <td>neptune</td>\n",
       "    </tr>\n",
       "  </tbody>\n",
       "</table>\n",
       "<p>5 rows × 42 columns</p>\n",
       "</div>"
      ],
      "text/plain": [
       "   0  tcp ftp_data   SF  491   0.1  0.2  0.3  0.4  0.5  ...   25  0.17.1  \\\n",
       "0  0  udp    other   SF  146     0    0    0    0    0  ...    1    0.00   \n",
       "1  0  tcp  private   S0    0     0    0    0    0    0  ...   26    0.10   \n",
       "2  0  tcp     http   SF  232  8153    0    0    0    0  ...  255    1.00   \n",
       "3  0  tcp     http   SF  199   420    0    0    0    0  ...  255    1.00   \n",
       "4  0  tcp  private  REJ    0     0    0    0    0    0  ...   19    0.07   \n",
       "\n",
       "   0.03  0.17.2  0.00.6  0.00.7  0.00.8  0.05  0.00.9   normal  \n",
       "0  0.60    0.88    0.00    0.00    0.00   0.0    0.00   normal  \n",
       "1  0.05    0.00    0.00    1.00    1.00   0.0    0.00  neptune  \n",
       "2  0.00    0.03    0.04    0.03    0.01   0.0    0.01   normal  \n",
       "3  0.00    0.00    0.00    0.00    0.00   0.0    0.00   normal  \n",
       "4  0.07    0.00    0.00    0.00    0.00   1.0    1.00  neptune  \n",
       "\n",
       "[5 rows x 42 columns]"
      ]
     },
     "execution_count": 2,
     "metadata": {},
     "output_type": "execute_result"
    }
   ],
   "source": [
    "# Remove Difficulty Level\n",
    "data = data.drop('20', axis = 1)\n",
    "data.head()"
   ]
  },
  {
   "cell_type": "code",
   "execution_count": 3,
   "metadata": {},
   "outputs": [
    {
     "name": "stdout",
     "output_type": "stream",
     "text": [
      "<class 'numpy.ndarray'>\n"
     ]
    }
   ],
   "source": [
    "data = data.to_numpy()\n",
    "print(type(data))"
   ]
  },
  {
   "cell_type": "code",
   "execution_count": 4,
   "metadata": {},
   "outputs": [
    {
     "name": "stdout",
     "output_type": "stream",
     "text": [
      "{'multihop', 'imap', 'phf', 'buffer_overflow', 'guess_passwd', 'neptune', 'rootkit', 'nmap', 'land', 'back', 'ftp_write', 'satan', 'normal', 'smurf', 'warezmaster', 'ipsweep', 'warezclient', 'pod', 'teardrop', 'spy', 'perl', 'loadmodule', 'portsweep'}\n"
     ]
    }
   ],
   "source": [
    "# Separate source and target variables\n",
    "X = data[:,:-1]\n",
    "y_og = data[:, len(data[0])-1]\n",
    "print(set(y_og))"
   ]
  },
  {
   "cell_type": "code",
   "execution_count": 5,
   "metadata": {},
   "outputs": [
    {
     "name": "stdout",
     "output_type": "stream",
     "text": [
      "(125972, 38)\n",
      "(125972,)\n",
      "[0 146 0 0 0 0 0 0 0 0 0 0 0 0 0 0 0 0 0 13 1 0.0 0.0 0.0 0.0 0.08 0.15\n",
      " 0.0 255 1 0.0 0.6 0.88 0.0 0.0 0.0 0.0 0.0]\n"
     ]
    }
   ],
   "source": [
    "# Remove Categorical Features\n",
    "X_no_cat = np.delete(X,[1,2,3],1)\n",
    "print(X_no_cat.shape)\n",
    "print(y_og.shape)\n",
    "\n",
    "# Double check to make sure all were removed\n",
    "print(X_no_cat[0,:])"
   ]
  },
  {
   "cell_type": "code",
   "execution_count": 6,
   "metadata": {},
   "outputs": [
    {
     "name": "stdout",
     "output_type": "stream",
     "text": [
      "(59000, 38)\n",
      "(59000,)\n"
     ]
    }
   ],
   "source": [
    "# Take a Random Sample\n",
    "sample_indices = np.random.choice(range(len(y_og)), 59000)\n",
    "X_sample = X_no_cat[sample_indices,:]\n",
    "y = y_og[sample_indices]\n",
    "print(X_sample.shape)\n",
    "print(y.shape)"
   ]
  },
  {
   "cell_type": "code",
   "execution_count": 7,
   "metadata": {},
   "outputs": [],
   "source": [
    "# Assign each attack type to a numerical representation of an attack category\n",
    "\n",
    "for i in range(X_sample.shape[0]):\n",
    "  \n",
    "    if(y[i]=='normal'):\n",
    "        y[i] = 1\n",
    "    \n",
    "# dos\n",
    "    if(y[i]=='neptune'or y[i]=='smurf'or y[i]=='pod' or y[i]=='teardrop' or y[i]=='land' or y[i]=='back'):\n",
    "        y[i] = 2\n",
    "\n",
    "# u2r\n",
    "    if(y[i]=='buffer_overflow' or y[i]=='loadmodule' or y[i]=='perl' or y[i]=='rootkit'):\n",
    "        y[i] = 3\n",
    "    \n",
    "# r2l \n",
    "    if(y[i]=='guess_passwd' or y[i]=='ftp_write' or y[i]=='imap' or y[i]=='phf' or y[i]=='multihop' or y[i]=='warezmaster' or y[i]=='warezclient' or y[i]=='spy'):\n",
    "        y[i] = 4\n",
    "\n",
    "# probe\n",
    "    if(y[i]=='portsweep' or y[i]=='ipsweep' or y[i]=='nmap' or y[i]=='satan'):\n",
    "        y[i] = 5"
   ]
  },
  {
   "cell_type": "code",
   "execution_count": 8,
   "metadata": {},
   "outputs": [
    {
     "name": "stdout",
     "output_type": "stream",
     "text": [
      "{1, 2, 3, 4, 5}\n"
     ]
    }
   ],
   "source": [
    "print(set(y))"
   ]
  },
  {
   "cell_type": "code",
   "execution_count": 9,
   "metadata": {},
   "outputs": [
    {
     "name": "stdout",
     "output_type": "stream",
     "text": [
      "[1 1 2 1 5 2 1 2 2 2 2 2 2 2 1 1 2 1 2 1 1 1 5 2 2 2 5 1 1 2 2 1 1 1 2 1 1\n",
      " 2 1 5 2 2 1 2 5 2 2 2 1 2 5 2 1 2 1 2 1 2 2 2 2 2 2 2 2 1 1 1 1 2 1 2 5 1\n",
      " 5 1 1 2 2 2 1 2 2 1 2 1 1 2 2 1 2 2 2 1 2 2 1 2 1 1]\n",
      "{1, 2, 3, 4, 5}\n",
      "<class 'numpy.ndarray'>\n"
     ]
    }
   ],
   "source": [
    "y = np.int64(y)\n",
    "print(y[40700:40800])\n",
    "print(set(y))\n",
    "print(type(y))"
   ]
  },
  {
   "cell_type": "code",
   "execution_count": 10,
   "metadata": {},
   "outputs": [],
   "source": [
    "from sklearn.model_selection import train_test_split \n",
    "X_train, X_test, y_train, y_test = train_test_split(X_sample, y, test_size=0.33, random_state=42)"
   ]
  },
  {
   "cell_type": "code",
   "execution_count": 11,
   "metadata": {},
   "outputs": [
    {
     "name": "stdout",
     "output_type": "stream",
     "text": [
      "{1, 2, 3, 4, 5}\n",
      "{1, 2, 3, 4, 5}\n"
     ]
    }
   ],
   "source": [
    "print(set(y_train))\n",
    "print(set(y_test))"
   ]
  },
  {
   "cell_type": "code",
   "execution_count": 12,
   "metadata": {},
   "outputs": [],
   "source": [
    "from sklearn.ensemble import RandomForestClassifier\n",
    "from sklearn.metrics import precision_recall_fscore_support as score\n",
    "\n",
    "recall_scores = []\n",
    "precision_scores = []\n",
    "f1_scores = []\n",
    "\n",
    "\n",
    "def calculations(n):\n",
    "    \n",
    "    clf = RandomForestClassifier(max_depth = n, random_state = 42)\n",
    "    clf.fit(X_train,y_train)\n",
    "    y_pred = clf.predict(X_test)\n",
    "    y_pred = np.array(y_pred)\n",
    "    \n",
    "    precision,recall,fscore,support=score(y_test,y_pred,average='macro')\n",
    "    \n",
    "    recall_scores.append(recall)\n",
    "    precision_scores.append(precision)\n",
    "    f1_scores.append(fscore)"
   ]
  },
  {
   "cell_type": "code",
   "execution_count": 13,
   "metadata": {},
   "outputs": [],
   "source": [
    "ilist = []\n",
    "i = 20\n",
    "while i<600:\n",
    "    calculations(i)\n",
    "    ilist.append(i)\n",
    "    i=i*2"
   ]
  },
  {
   "cell_type": "code",
   "execution_count": 14,
   "metadata": {},
   "outputs": [
    {
     "data": {
      "image/png": "[encoded data removed]",
      "text/plain": [
       "<Figure size 576x360 with 1 Axes>"
      ]
     },
     "metadata": {
      "needs_background": "light"
     },
     "output_type": "display_data"
    }
   ],
   "source": [
    "import matplotlib.pyplot as plt\n",
    "plt.figure(figsize = (8,5))\n",
    "\n",
    "plt.plot(ilist, precision_scores, marker='o', linewidth=2, markersize=12, label = 'Precision')\n",
    "plt.plot(ilist, recall_scores, marker='o', linewidth=2, markersize=12, label = 'Recall')\n",
    "plt.plot(ilist, f1_scores, marker='o', linewidth=2, markersize=12, label = 'F1 Score')\n",
    "\n",
    "    \n",
    "plt.xlabel('Max Depth', fontsize = 18)\n",
    "plt.ylabel('Metric Values', fontsize = 18)\n",
    "plt.title('Attack Categories NSL KDD (59000, 38)', fontsize = 20)  \n",
    "    \n",
    "leg = plt.legend();\n",
    "\n",
    "plt.ylim((-.1, 1.1))\n",
    "\n",
    "plt.show()"
   ]
  },
  {
   "cell_type": "code",
   "execution_count": 15,
   "metadata": {},
   "outputs": [
    {
     "name": "stdout",
     "output_type": "stream",
     "text": [
      "0.9719033217369113\n",
      "0.9287538102195929\n"
     ]
    }
   ],
   "source": [
    "print(max(precision_scores))\n",
    "print(max(recall_scores))"
   ]
  },
  {
   "cell_type": "code",
   "execution_count": 16,
   "metadata": {},
   "outputs": [
    {
     "data": {
      "image/png": "[encoded data removed]",
      "text/plain": [
       "<Figure size 432x288 with 1 Axes>"
      ]
     },
     "metadata": {
      "needs_background": "light"
     },
     "output_type": "display_data"
    }
   ],
   "source": [
    "\n",
    "#     plt.plot(ilist, recall_scores, label='Recall')\n",
    "#     plt.plot(ilist, precision_scores, label='Precison')\n",
    "#     plt.plot(ilist, f1_scores,label='F1')\n",
    "    \n",
    "plt.xlabel('Max Depth')\n",
    "plt.ylabel('Metric Values')\n",
    "plt.title('RF Classification - Attack Categories NSL KDD (59000, 38)')\n",
    "    \n",
    "plt.plot(ilist, precision_scores, marker='o', linewidth=2, markersize=12, label = 'Precision')\n",
    "plt.plot(ilist, recall_scores, marker='o', linewidth=2, markersize=12, label = 'Recall')\n",
    "plt.plot(ilist, f1_scores, marker='o', linewidth=2, markersize=12, label = 'F1 Score')\n",
    "    \n",
    "leg = plt.legend();\n",
    "\n",
    "plt.ylim((-.1, 1.1))\n",
    "    \n",
    "plt.show()"
   ]
  },
  {
   "cell_type": "code",
   "execution_count": 17,
   "metadata": {},
   "outputs": [
    {
     "name": "stdout",
     "output_type": "stream",
     "text": [
      "0.9719033217369113\n",
      "0.9287538102195929\n"
     ]
    }
   ],
   "source": [
    "print(max(precision_scores))\n",
    "print(max(recall_scores))"
   ]
  },
  {
   "cell_type": "code",
   "execution_count": 18,
   "metadata": {},
   "outputs": [
    {
     "name": "stdout",
     "output_type": "stream",
     "text": [
      "(39530, 38)\n",
      "(19470, 38)\n"
     ]
    }
   ],
   "source": [
    "print(X_train.shape)\n",
    "print(X_test.shape)"
   ]
  },
  {
   "cell_type": "code",
   "execution_count": 19,
   "metadata": {},
   "outputs": [
    {
     "name": "stdout",
     "output_type": "stream",
     "text": [
      "[0.9718974620608115, 0.9719033217369113, 0.9719033217369113, 0.9719033217369113, 0.9719033217369113]\n"
     ]
    }
   ],
   "source": [
    "print(precision_scores)"
   ]
  }
 ],
 "metadata": {
  "kernelspec": {
   "display_name": "Python 3",
   "language": "python",
   "name": "python3"
  },
  "language_info": {
   "codemirror_mode": {
    "name": "ipython",
    "version": 3
   },
   "file_extension": ".py",
   "mimetype": "text/x-python",
   "name": "python",
   "nbconvert_exporter": "python",
   "pygments_lexer": "ipython3",
   "version": "3.8.3"
  }
 },
 "nbformat": 4,
 "nbformat_minor": 4
}
