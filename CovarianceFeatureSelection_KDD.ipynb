{
 "cells": [
  {
   "cell_type": "markdown",
   "metadata": {},
   "source": [
    "# Can We Improve Results Using Covariance Feature Selection?"
   ]
  },
  {
   "cell_type": "code",
   "execution_count": 1,
   "metadata": {},
   "outputs": [],
   "source": [
    "# Necessary libraries\n",
    "from sklearn.metrics import recall_score\n",
    "from sklearn.metrics import precision_score\n",
    "from sklearn.metrics import f1_score\n",
    "from sklearn.ensemble import IsolationForest\n",
    "from sklearn.neighbors import LocalOutlierFactor\n",
    "import matplotlib.pyplot as plt\n",
    "from sklearn.metrics import confusion_matrix\n",
    "from sklearn.feature_selection import VarianceThreshold\n",
    "import numpy as np\n",
    "import pandas as pd"
   ]
  },
  {
   "cell_type": "code",
   "execution_count": 2,
   "metadata": {},
   "outputs": [
    {
     "name": "stdout",
     "output_type": "stream",
     "text": [
      "<class 'pandas.core.frame.DataFrame'>\n"
     ]
    }
   ],
   "source": [
    "# Import data\n",
    "data = pd.read_csv('kddcup.data_10_percent_corrected')\n",
    "print(type(data))"
   ]
  },
  {
   "cell_type": "code",
   "execution_count": 3,
   "metadata": {},
   "outputs": [
    {
     "data": {
      "text/html": [
       "<div>\n",
       "<style scoped>\n",
       "    .dataframe tbody tr th:only-of-type {\n",
       "        vertical-align: middle;\n",
       "    }\n",
       "\n",
       "    .dataframe tbody tr th {\n",
       "        vertical-align: top;\n",
       "    }\n",
       "\n",
       "    .dataframe thead th {\n",
       "        text-align: right;\n",
       "    }\n",
       "</style>\n",
       "<table border=\"1\" class=\"dataframe\">\n",
       "  <thead>\n",
       "    <tr style=\"text-align: right;\">\n",
       "      <th></th>\n",
       "      <th>0</th>\n",
       "      <th>tcp</th>\n",
       "      <th>http</th>\n",
       "      <th>SF</th>\n",
       "      <th>181</th>\n",
       "      <th>5450</th>\n",
       "      <th>0.1</th>\n",
       "      <th>0.2</th>\n",
       "      <th>0.3</th>\n",
       "      <th>0.4</th>\n",
       "      <th>...</th>\n",
       "      <th>9.1</th>\n",
       "      <th>1.00.1</th>\n",
       "      <th>0.00.6</th>\n",
       "      <th>0.11.1</th>\n",
       "      <th>0.00.7</th>\n",
       "      <th>0.00.8</th>\n",
       "      <th>0.00.9</th>\n",
       "      <th>0.00.10</th>\n",
       "      <th>0.00.11</th>\n",
       "      <th>normal.</th>\n",
       "    </tr>\n",
       "  </thead>\n",
       "  <tbody>\n",
       "    <tr>\n",
       "      <th>0</th>\n",
       "      <td>0</td>\n",
       "      <td>tcp</td>\n",
       "      <td>http</td>\n",
       "      <td>SF</td>\n",
       "      <td>239</td>\n",
       "      <td>486</td>\n",
       "      <td>0</td>\n",
       "      <td>0</td>\n",
       "      <td>0</td>\n",
       "      <td>0</td>\n",
       "      <td>...</td>\n",
       "      <td>19</td>\n",
       "      <td>1.0</td>\n",
       "      <td>0.0</td>\n",
       "      <td>0.05</td>\n",
       "      <td>0.0</td>\n",
       "      <td>0.0</td>\n",
       "      <td>0.0</td>\n",
       "      <td>0.0</td>\n",
       "      <td>0.0</td>\n",
       "      <td>normal.</td>\n",
       "    </tr>\n",
       "    <tr>\n",
       "      <th>1</th>\n",
       "      <td>0</td>\n",
       "      <td>tcp</td>\n",
       "      <td>http</td>\n",
       "      <td>SF</td>\n",
       "      <td>235</td>\n",
       "      <td>1337</td>\n",
       "      <td>0</td>\n",
       "      <td>0</td>\n",
       "      <td>0</td>\n",
       "      <td>0</td>\n",
       "      <td>...</td>\n",
       "      <td>29</td>\n",
       "      <td>1.0</td>\n",
       "      <td>0.0</td>\n",
       "      <td>0.03</td>\n",
       "      <td>0.0</td>\n",
       "      <td>0.0</td>\n",
       "      <td>0.0</td>\n",
       "      <td>0.0</td>\n",
       "      <td>0.0</td>\n",
       "      <td>normal.</td>\n",
       "    </tr>\n",
       "    <tr>\n",
       "      <th>2</th>\n",
       "      <td>0</td>\n",
       "      <td>tcp</td>\n",
       "      <td>http</td>\n",
       "      <td>SF</td>\n",
       "      <td>219</td>\n",
       "      <td>1337</td>\n",
       "      <td>0</td>\n",
       "      <td>0</td>\n",
       "      <td>0</td>\n",
       "      <td>0</td>\n",
       "      <td>...</td>\n",
       "      <td>39</td>\n",
       "      <td>1.0</td>\n",
       "      <td>0.0</td>\n",
       "      <td>0.03</td>\n",
       "      <td>0.0</td>\n",
       "      <td>0.0</td>\n",
       "      <td>0.0</td>\n",
       "      <td>0.0</td>\n",
       "      <td>0.0</td>\n",
       "      <td>normal.</td>\n",
       "    </tr>\n",
       "    <tr>\n",
       "      <th>3</th>\n",
       "      <td>0</td>\n",
       "      <td>tcp</td>\n",
       "      <td>http</td>\n",
       "      <td>SF</td>\n",
       "      <td>217</td>\n",
       "      <td>2032</td>\n",
       "      <td>0</td>\n",
       "      <td>0</td>\n",
       "      <td>0</td>\n",
       "      <td>0</td>\n",
       "      <td>...</td>\n",
       "      <td>49</td>\n",
       "      <td>1.0</td>\n",
       "      <td>0.0</td>\n",
       "      <td>0.02</td>\n",
       "      <td>0.0</td>\n",
       "      <td>0.0</td>\n",
       "      <td>0.0</td>\n",
       "      <td>0.0</td>\n",
       "      <td>0.0</td>\n",
       "      <td>normal.</td>\n",
       "    </tr>\n",
       "    <tr>\n",
       "      <th>4</th>\n",
       "      <td>0</td>\n",
       "      <td>tcp</td>\n",
       "      <td>http</td>\n",
       "      <td>SF</td>\n",
       "      <td>217</td>\n",
       "      <td>2032</td>\n",
       "      <td>0</td>\n",
       "      <td>0</td>\n",
       "      <td>0</td>\n",
       "      <td>0</td>\n",
       "      <td>...</td>\n",
       "      <td>59</td>\n",
       "      <td>1.0</td>\n",
       "      <td>0.0</td>\n",
       "      <td>0.02</td>\n",
       "      <td>0.0</td>\n",
       "      <td>0.0</td>\n",
       "      <td>0.0</td>\n",
       "      <td>0.0</td>\n",
       "      <td>0.0</td>\n",
       "      <td>normal.</td>\n",
       "    </tr>\n",
       "  </tbody>\n",
       "</table>\n",
       "<p>5 rows × 42 columns</p>\n",
       "</div>"
      ],
      "text/plain": [
       "   0  tcp  http  SF  181  5450  0.1  0.2  0.3  0.4  ...  9.1  1.00.1  0.00.6  \\\n",
       "0  0  tcp  http  SF  239   486    0    0    0    0  ...   19     1.0     0.0   \n",
       "1  0  tcp  http  SF  235  1337    0    0    0    0  ...   29     1.0     0.0   \n",
       "2  0  tcp  http  SF  219  1337    0    0    0    0  ...   39     1.0     0.0   \n",
       "3  0  tcp  http  SF  217  2032    0    0    0    0  ...   49     1.0     0.0   \n",
       "4  0  tcp  http  SF  217  2032    0    0    0    0  ...   59     1.0     0.0   \n",
       "\n",
       "   0.11.1  0.00.7  0.00.8  0.00.9  0.00.10  0.00.11  normal.  \n",
       "0    0.05     0.0     0.0     0.0      0.0      0.0  normal.  \n",
       "1    0.03     0.0     0.0     0.0      0.0      0.0  normal.  \n",
       "2    0.03     0.0     0.0     0.0      0.0      0.0  normal.  \n",
       "3    0.02     0.0     0.0     0.0      0.0      0.0  normal.  \n",
       "4    0.02     0.0     0.0     0.0      0.0      0.0  normal.  \n",
       "\n",
       "[5 rows x 42 columns]"
      ]
     },
     "execution_count": 3,
     "metadata": {},
     "output_type": "execute_result"
    }
   ],
   "source": [
    "data.head()"
   ]
  },
  {
   "cell_type": "code",
   "execution_count": 4,
   "metadata": {},
   "outputs": [],
   "source": [
    "# Remove Categorical Features\n",
    "data = data.drop(['tcp', 'http', 'SF'], axis = 1)"
   ]
  },
  {
   "cell_type": "code",
   "execution_count": 5,
   "metadata": {},
   "outputs": [],
   "source": [
    "# Take Random Sample\n",
    "data_sample = data.sample(59000)"
   ]
  },
  {
   "cell_type": "code",
   "execution_count": 6,
   "metadata": {},
   "outputs": [
    {
     "name": "stdout",
     "output_type": "stream",
     "text": [
      "(494020, 39)\n",
      "(59000, 39)\n"
     ]
    }
   ],
   "source": [
    "print(data.shape)\n",
    "print(data_sample.shape)"
   ]
  },
  {
   "cell_type": "code",
   "execution_count": 7,
   "metadata": {},
   "outputs": [
    {
     "data": {
      "text/html": [
       "<div>\n",
       "<style scoped>\n",
       "    .dataframe tbody tr th:only-of-type {\n",
       "        vertical-align: middle;\n",
       "    }\n",
       "\n",
       "    .dataframe tbody tr th {\n",
       "        vertical-align: top;\n",
       "    }\n",
       "\n",
       "    .dataframe thead th {\n",
       "        text-align: right;\n",
       "    }\n",
       "</style>\n",
       "<table border=\"1\" class=\"dataframe\">\n",
       "  <thead>\n",
       "    <tr style=\"text-align: right;\">\n",
       "      <th></th>\n",
       "      <th>0</th>\n",
       "      <th>181</th>\n",
       "      <th>5450</th>\n",
       "      <th>0.1</th>\n",
       "      <th>0.2</th>\n",
       "      <th>0.3</th>\n",
       "      <th>0.4</th>\n",
       "      <th>0.5</th>\n",
       "      <th>1</th>\n",
       "      <th>0.6</th>\n",
       "      <th>...</th>\n",
       "      <th>9.1</th>\n",
       "      <th>1.00.1</th>\n",
       "      <th>0.00.6</th>\n",
       "      <th>0.11.1</th>\n",
       "      <th>0.00.7</th>\n",
       "      <th>0.00.8</th>\n",
       "      <th>0.00.9</th>\n",
       "      <th>0.00.10</th>\n",
       "      <th>0.00.11</th>\n",
       "      <th>normal.</th>\n",
       "    </tr>\n",
       "  </thead>\n",
       "  <tbody>\n",
       "    <tr>\n",
       "      <th>386832</th>\n",
       "      <td>0</td>\n",
       "      <td>0</td>\n",
       "      <td>0</td>\n",
       "      <td>0</td>\n",
       "      <td>0</td>\n",
       "      <td>0</td>\n",
       "      <td>0</td>\n",
       "      <td>0</td>\n",
       "      <td>0</td>\n",
       "      <td>0</td>\n",
       "      <td>...</td>\n",
       "      <td>7</td>\n",
       "      <td>0.03</td>\n",
       "      <td>0.06</td>\n",
       "      <td>0.00</td>\n",
       "      <td>0.00</td>\n",
       "      <td>1.0</td>\n",
       "      <td>1.0</td>\n",
       "      <td>0.0</td>\n",
       "      <td>0.0</td>\n",
       "      <td>neptune.</td>\n",
       "    </tr>\n",
       "    <tr>\n",
       "      <th>435782</th>\n",
       "      <td>0</td>\n",
       "      <td>520</td>\n",
       "      <td>0</td>\n",
       "      <td>0</td>\n",
       "      <td>0</td>\n",
       "      <td>0</td>\n",
       "      <td>0</td>\n",
       "      <td>0</td>\n",
       "      <td>0</td>\n",
       "      <td>0</td>\n",
       "      <td>...</td>\n",
       "      <td>255</td>\n",
       "      <td>1.00</td>\n",
       "      <td>0.00</td>\n",
       "      <td>1.00</td>\n",
       "      <td>0.00</td>\n",
       "      <td>0.0</td>\n",
       "      <td>0.0</td>\n",
       "      <td>0.0</td>\n",
       "      <td>0.0</td>\n",
       "      <td>smurf.</td>\n",
       "    </tr>\n",
       "    <tr>\n",
       "      <th>191103</th>\n",
       "      <td>0</td>\n",
       "      <td>1032</td>\n",
       "      <td>0</td>\n",
       "      <td>0</td>\n",
       "      <td>0</td>\n",
       "      <td>0</td>\n",
       "      <td>0</td>\n",
       "      <td>0</td>\n",
       "      <td>0</td>\n",
       "      <td>0</td>\n",
       "      <td>...</td>\n",
       "      <td>255</td>\n",
       "      <td>1.00</td>\n",
       "      <td>0.00</td>\n",
       "      <td>1.00</td>\n",
       "      <td>0.00</td>\n",
       "      <td>0.0</td>\n",
       "      <td>0.0</td>\n",
       "      <td>0.0</td>\n",
       "      <td>0.0</td>\n",
       "      <td>smurf.</td>\n",
       "    </tr>\n",
       "    <tr>\n",
       "      <th>311744</th>\n",
       "      <td>0</td>\n",
       "      <td>1032</td>\n",
       "      <td>0</td>\n",
       "      <td>0</td>\n",
       "      <td>0</td>\n",
       "      <td>0</td>\n",
       "      <td>0</td>\n",
       "      <td>0</td>\n",
       "      <td>0</td>\n",
       "      <td>0</td>\n",
       "      <td>...</td>\n",
       "      <td>255</td>\n",
       "      <td>1.00</td>\n",
       "      <td>0.00</td>\n",
       "      <td>1.00</td>\n",
       "      <td>0.00</td>\n",
       "      <td>0.0</td>\n",
       "      <td>0.0</td>\n",
       "      <td>0.0</td>\n",
       "      <td>0.0</td>\n",
       "      <td>smurf.</td>\n",
       "    </tr>\n",
       "    <tr>\n",
       "      <th>22573</th>\n",
       "      <td>1</td>\n",
       "      <td>1380</td>\n",
       "      <td>335</td>\n",
       "      <td>0</td>\n",
       "      <td>0</td>\n",
       "      <td>0</td>\n",
       "      <td>0</td>\n",
       "      <td>0</td>\n",
       "      <td>1</td>\n",
       "      <td>0</td>\n",
       "      <td>...</td>\n",
       "      <td>150</td>\n",
       "      <td>0.63</td>\n",
       "      <td>0.05</td>\n",
       "      <td>0.01</td>\n",
       "      <td>0.01</td>\n",
       "      <td>0.0</td>\n",
       "      <td>0.0</td>\n",
       "      <td>0.0</td>\n",
       "      <td>0.0</td>\n",
       "      <td>normal.</td>\n",
       "    </tr>\n",
       "  </tbody>\n",
       "</table>\n",
       "<p>5 rows × 39 columns</p>\n",
       "</div>"
      ],
      "text/plain": [
       "        0   181  5450  0.1  0.2  0.3  0.4  0.5  1  0.6  ...  9.1  1.00.1  \\\n",
       "386832  0     0     0    0    0    0    0    0  0    0  ...    7    0.03   \n",
       "435782  0   520     0    0    0    0    0    0  0    0  ...  255    1.00   \n",
       "191103  0  1032     0    0    0    0    0    0  0    0  ...  255    1.00   \n",
       "311744  0  1032     0    0    0    0    0    0  0    0  ...  255    1.00   \n",
       "22573   1  1380   335    0    0    0    0    0  1    0  ...  150    0.63   \n",
       "\n",
       "        0.00.6  0.11.1  0.00.7  0.00.8  0.00.9  0.00.10  0.00.11   normal.  \n",
       "386832    0.06    0.00    0.00     1.0     1.0      0.0      0.0  neptune.  \n",
       "435782    0.00    1.00    0.00     0.0     0.0      0.0      0.0    smurf.  \n",
       "191103    0.00    1.00    0.00     0.0     0.0      0.0      0.0    smurf.  \n",
       "311744    0.00    1.00    0.00     0.0     0.0      0.0      0.0    smurf.  \n",
       "22573     0.05    0.01    0.01     0.0     0.0      0.0      0.0   normal.  \n",
       "\n",
       "[5 rows x 39 columns]"
      ]
     },
     "execution_count": 7,
     "metadata": {},
     "output_type": "execute_result"
    }
   ],
   "source": [
    "data_sample.head()"
   ]
  },
  {
   "cell_type": "code",
   "execution_count": 8,
   "metadata": {},
   "outputs": [
    {
     "name": "stdout",
     "output_type": "stream",
     "text": [
      "386832    neptune.\n",
      "435782      smurf.\n",
      "191103      smurf.\n",
      "311744      smurf.\n",
      "22573      normal.\n",
      "            ...   \n",
      "362702    neptune.\n",
      "394976    neptune.\n",
      "190285      smurf.\n",
      "174351      smurf.\n",
      "343254     normal.\n",
      "Name: normal., Length: 59000, dtype: object\n",
      "{'back.', 'teardrop.', 'buffer_overflow.', 'loadmodule.', 'warezmaster.', 'nmap.', 'smurf.', 'guess_passwd.', 'portsweep.', 'warezclient.', 'multihop.', 'ipsweep.', 'land.', 'pod.', 'neptune.', 'ftp_write.', 'satan.', 'phf.', 'normal.', 'rootkit.'}\n",
      "(59000,)\n"
     ]
    }
   ],
   "source": [
    "# Separate source and target variables\n",
    "y = data_sample[data_sample.columns[len(data_sample.columns)-1]]\n",
    "print(y)\n",
    "print(set(y))\n",
    "print(y.shape)"
   ]
  },
  {
   "cell_type": "code",
   "execution_count": 9,
   "metadata": {},
   "outputs": [],
   "source": [
    "# Make target variables numerical\n",
    "pd.set_option('mode.chained_assignment', None)\n",
    "y.loc[y == 'normal.'] = 1\n",
    "y.loc[y != 1] = -1\n",
    "y = np.int64(y)"
   ]
  },
  {
   "cell_type": "code",
   "execution_count": 10,
   "metadata": {},
   "outputs": [
    {
     "name": "stdout",
     "output_type": "stream",
     "text": [
      "{1, -1}\n",
      "(59000,)\n"
     ]
    }
   ],
   "source": [
    "print(set(y))\n",
    "print(y.shape)"
   ]
  },
  {
   "cell_type": "code",
   "execution_count": 11,
   "metadata": {},
   "outputs": [
    {
     "name": "stdout",
     "output_type": "stream",
     "text": [
      "        0   181  5450  0.1  0.2  0.3  0.4  0.5  1  0.6  ...    9  9.1  1.00.1  \\\n",
      "386832  0     0     0    0    0    0    0    0  0    0  ...  255    7    0.03   \n",
      "435782  0   520     0    0    0    0    0    0  0    0  ...  255  255    1.00   \n",
      "191103  0  1032     0    0    0    0    0    0  0    0  ...  255  255    1.00   \n",
      "311744  0  1032     0    0    0    0    0    0  0    0  ...  255  255    1.00   \n",
      "22573   1  1380   335    0    0    0    0    0  1    0  ...   87  150    0.63   \n",
      "...    ..   ...   ...  ...  ...  ...  ...  ... ..  ...  ...  ...  ...     ...   \n",
      "362702  0     0     0    0    0    0    0    0  0    0  ...  255    6    0.02   \n",
      "394976  0     0     0    0    0    0    0    0  0    0  ...  255    8    0.03   \n",
      "190285  0  1032     0    0    0    0    0    0  0    0  ...  255  255    1.00   \n",
      "174351  0  1032     0    0    0    0    0    0  0    0  ...  255  255    1.00   \n",
      "343254  0   105   146    0    0    0    0    0  0    0  ...  255  246    0.96   \n",
      "\n",
      "        0.00.6  0.11.1  0.00.7  0.00.8  0.00.9  0.00.10  0.00.11  \n",
      "386832    0.06    0.00    0.00     1.0     1.0      0.0      0.0  \n",
      "435782    0.00    1.00    0.00     0.0     0.0      0.0      0.0  \n",
      "191103    0.00    1.00    0.00     0.0     0.0      0.0      0.0  \n",
      "311744    0.00    1.00    0.00     0.0     0.0      0.0      0.0  \n",
      "22573     0.05    0.01    0.01     0.0     0.0      0.0      0.0  \n",
      "...        ...     ...     ...     ...     ...      ...      ...  \n",
      "362702    0.06    0.00    0.00     1.0     1.0      0.0      0.0  \n",
      "394976    0.05    0.00    0.00     1.0     1.0      0.0      0.0  \n",
      "190285    0.00    1.00    0.00     0.0     0.0      0.0      0.0  \n",
      "174351    0.00    1.00    0.00     0.0     0.0      0.0      0.0  \n",
      "343254    0.01    0.01    0.00     0.0     0.0      0.0      0.0  \n",
      "\n",
      "[59000 rows x 38 columns]\n"
     ]
    }
   ],
   "source": [
    "og_data = data_sample.iloc[:,:-1]\n",
    "print(og_data)"
   ]
  },
  {
   "cell_type": "code",
   "execution_count": 12,
   "metadata": {},
   "outputs": [
    {
     "name": "stdout",
     "output_type": "stream",
     "text": [
      "Index(['0', '181', '5450', '0.1', '0.2', '0.3', '0.4', '0.5', '1', '0.6',\n",
      "       '0.7', '0.8', '0.9', '0.10', '0.11', '0.12', '0.13', '0.14', '0.15',\n",
      "       '8', '8.1', '0.00', '0.00.1', '0.00.2', '0.00.3', '1.00', '0.00.4',\n",
      "       '0.00.5', '9', '9.1', '1.00.1', '0.00.6', '0.11.1', '0.00.7', '0.00.8',\n",
      "       '0.00.9', '0.00.10', '0.00.11'],\n",
      "      dtype='object')\n",
      "(59000, 38)\n",
      "(59000,)\n"
     ]
    }
   ],
   "source": [
    "X9 = data_sample.iloc[:,:-1]\n",
    "X9.head()\n",
    "print(X9.columns)\n",
    "\n",
    "print(X9.shape)\n",
    "print(y.shape)"
   ]
  },
  {
   "cell_type": "code",
   "execution_count": 13,
   "metadata": {},
   "outputs": [
    {
     "data": {
      "text/html": [
       "<div>\n",
       "<style scoped>\n",
       "    .dataframe tbody tr th:only-of-type {\n",
       "        vertical-align: middle;\n",
       "    }\n",
       "\n",
       "    .dataframe tbody tr th {\n",
       "        vertical-align: top;\n",
       "    }\n",
       "\n",
       "    .dataframe thead th {\n",
       "        text-align: right;\n",
       "    }\n",
       "</style>\n",
       "<table border=\"1\" class=\"dataframe\">\n",
       "  <thead>\n",
       "    <tr style=\"text-align: right;\">\n",
       "      <th></th>\n",
       "      <th>0</th>\n",
       "      <th>181</th>\n",
       "      <th>5450</th>\n",
       "      <th>0.1</th>\n",
       "      <th>0.2</th>\n",
       "      <th>0.3</th>\n",
       "      <th>0.4</th>\n",
       "      <th>0.5</th>\n",
       "      <th>1</th>\n",
       "      <th>0.6</th>\n",
       "      <th>...</th>\n",
       "      <th>9</th>\n",
       "      <th>9.1</th>\n",
       "      <th>1.00.1</th>\n",
       "      <th>0.00.6</th>\n",
       "      <th>0.11.1</th>\n",
       "      <th>0.00.7</th>\n",
       "      <th>0.00.8</th>\n",
       "      <th>0.00.9</th>\n",
       "      <th>0.00.10</th>\n",
       "      <th>0.00.11</th>\n",
       "    </tr>\n",
       "  </thead>\n",
       "  <tbody>\n",
       "    <tr>\n",
       "      <th>386832</th>\n",
       "      <td>0</td>\n",
       "      <td>0</td>\n",
       "      <td>0</td>\n",
       "      <td>0</td>\n",
       "      <td>0</td>\n",
       "      <td>0</td>\n",
       "      <td>0</td>\n",
       "      <td>0</td>\n",
       "      <td>0</td>\n",
       "      <td>0</td>\n",
       "      <td>...</td>\n",
       "      <td>255</td>\n",
       "      <td>7</td>\n",
       "      <td>0.03</td>\n",
       "      <td>0.06</td>\n",
       "      <td>0.00</td>\n",
       "      <td>0.00</td>\n",
       "      <td>1.0</td>\n",
       "      <td>1.0</td>\n",
       "      <td>0.0</td>\n",
       "      <td>0.0</td>\n",
       "    </tr>\n",
       "    <tr>\n",
       "      <th>435782</th>\n",
       "      <td>0</td>\n",
       "      <td>520</td>\n",
       "      <td>0</td>\n",
       "      <td>0</td>\n",
       "      <td>0</td>\n",
       "      <td>0</td>\n",
       "      <td>0</td>\n",
       "      <td>0</td>\n",
       "      <td>0</td>\n",
       "      <td>0</td>\n",
       "      <td>...</td>\n",
       "      <td>255</td>\n",
       "      <td>255</td>\n",
       "      <td>1.00</td>\n",
       "      <td>0.00</td>\n",
       "      <td>1.00</td>\n",
       "      <td>0.00</td>\n",
       "      <td>0.0</td>\n",
       "      <td>0.0</td>\n",
       "      <td>0.0</td>\n",
       "      <td>0.0</td>\n",
       "    </tr>\n",
       "    <tr>\n",
       "      <th>191103</th>\n",
       "      <td>0</td>\n",
       "      <td>1032</td>\n",
       "      <td>0</td>\n",
       "      <td>0</td>\n",
       "      <td>0</td>\n",
       "      <td>0</td>\n",
       "      <td>0</td>\n",
       "      <td>0</td>\n",
       "      <td>0</td>\n",
       "      <td>0</td>\n",
       "      <td>...</td>\n",
       "      <td>255</td>\n",
       "      <td>255</td>\n",
       "      <td>1.00</td>\n",
       "      <td>0.00</td>\n",
       "      <td>1.00</td>\n",
       "      <td>0.00</td>\n",
       "      <td>0.0</td>\n",
       "      <td>0.0</td>\n",
       "      <td>0.0</td>\n",
       "      <td>0.0</td>\n",
       "    </tr>\n",
       "    <tr>\n",
       "      <th>311744</th>\n",
       "      <td>0</td>\n",
       "      <td>1032</td>\n",
       "      <td>0</td>\n",
       "      <td>0</td>\n",
       "      <td>0</td>\n",
       "      <td>0</td>\n",
       "      <td>0</td>\n",
       "      <td>0</td>\n",
       "      <td>0</td>\n",
       "      <td>0</td>\n",
       "      <td>...</td>\n",
       "      <td>255</td>\n",
       "      <td>255</td>\n",
       "      <td>1.00</td>\n",
       "      <td>0.00</td>\n",
       "      <td>1.00</td>\n",
       "      <td>0.00</td>\n",
       "      <td>0.0</td>\n",
       "      <td>0.0</td>\n",
       "      <td>0.0</td>\n",
       "      <td>0.0</td>\n",
       "    </tr>\n",
       "    <tr>\n",
       "      <th>22573</th>\n",
       "      <td>1</td>\n",
       "      <td>1380</td>\n",
       "      <td>335</td>\n",
       "      <td>0</td>\n",
       "      <td>0</td>\n",
       "      <td>0</td>\n",
       "      <td>0</td>\n",
       "      <td>0</td>\n",
       "      <td>1</td>\n",
       "      <td>0</td>\n",
       "      <td>...</td>\n",
       "      <td>87</td>\n",
       "      <td>150</td>\n",
       "      <td>0.63</td>\n",
       "      <td>0.05</td>\n",
       "      <td>0.01</td>\n",
       "      <td>0.01</td>\n",
       "      <td>0.0</td>\n",
       "      <td>0.0</td>\n",
       "      <td>0.0</td>\n",
       "      <td>0.0</td>\n",
       "    </tr>\n",
       "  </tbody>\n",
       "</table>\n",
       "<p>5 rows × 38 columns</p>\n",
       "</div>"
      ],
      "text/plain": [
       "        0   181  5450  0.1  0.2  0.3  0.4  0.5  1  0.6  ...    9  9.1  1.00.1  \\\n",
       "386832  0     0     0    0    0    0    0    0  0    0  ...  255    7    0.03   \n",
       "435782  0   520     0    0    0    0    0    0  0    0  ...  255  255    1.00   \n",
       "191103  0  1032     0    0    0    0    0    0  0    0  ...  255  255    1.00   \n",
       "311744  0  1032     0    0    0    0    0    0  0    0  ...  255  255    1.00   \n",
       "22573   1  1380   335    0    0    0    0    0  1    0  ...   87  150    0.63   \n",
       "\n",
       "        0.00.6  0.11.1  0.00.7  0.00.8  0.00.9  0.00.10  0.00.11  \n",
       "386832    0.06    0.00    0.00     1.0     1.0      0.0      0.0  \n",
       "435782    0.00    1.00    0.00     0.0     0.0      0.0      0.0  \n",
       "191103    0.00    1.00    0.00     0.0     0.0      0.0      0.0  \n",
       "311744    0.00    1.00    0.00     0.0     0.0      0.0      0.0  \n",
       "22573     0.05    0.01    0.01     0.0     0.0      0.0      0.0  \n",
       "\n",
       "[5 rows x 38 columns]"
      ]
     },
     "execution_count": 13,
     "metadata": {},
     "output_type": "execute_result"
    }
   ],
   "source": [
    "X8 = data_sample.iloc[:,:-1]\n",
    "X8.head()"
   ]
  },
  {
   "cell_type": "code",
   "execution_count": 14,
   "metadata": {},
   "outputs": [],
   "source": [
    "X7 = data_sample.iloc[:,:-1]"
   ]
  },
  {
   "cell_type": "code",
   "execution_count": 15,
   "metadata": {},
   "outputs": [],
   "source": [
    "correlated_features_9 = set()\n",
    "correlation_matrix_9 = X9.corr()\n",
    "\n",
    "correlated_features_8 = set()\n",
    "correlation_matrix_8 = X8.corr()\n",
    "\n",
    "correlated_features_7 = set()\n",
    "correlation_matrix_7 = X7.corr()"
   ]
  },
  {
   "cell_type": "code",
   "execution_count": 16,
   "metadata": {},
   "outputs": [],
   "source": [
    "for i in range(len(correlation_matrix_9.columns)):\n",
    "    for j in range(i):\n",
    "        if abs(correlation_matrix_9.iloc[i,j])>.9:\n",
    "            colname = correlation_matrix_9.columns[i]\n",
    "            correlated_features_9.add(colname)"
   ]
  },
  {
   "cell_type": "code",
   "execution_count": 17,
   "metadata": {},
   "outputs": [],
   "source": [
    "for i in range(len(correlation_matrix_8.columns)):\n",
    "    for j in range(i):\n",
    "        if abs(correlation_matrix_8.iloc[i,j])>.8:\n",
    "            colname = correlation_matrix_8.columns[i]\n",
    "            correlated_features_8.add(colname)"
   ]
  },
  {
   "cell_type": "code",
   "execution_count": 18,
   "metadata": {},
   "outputs": [],
   "source": [
    "for i in range(len(correlation_matrix_7.columns)):\n",
    "    for j in range(i):\n",
    "        if abs(correlation_matrix_7.iloc[i,j])>.7:\n",
    "            colname = correlation_matrix_7.columns[i]\n",
    "            correlated_features_7.add(colname)"
   ]
  },
  {
   "cell_type": "code",
   "execution_count": 19,
   "metadata": {},
   "outputs": [
    {
     "name": "stdout",
     "output_type": "stream",
     "text": [
      "11\n",
      "14\n",
      "14\n"
     ]
    }
   ],
   "source": [
    "print(len(correlated_features_9))\n",
    "print(len(correlated_features_8))\n",
    "print(len(correlated_features_7))\n"
   ]
  },
  {
   "cell_type": "code",
   "execution_count": 20,
   "metadata": {},
   "outputs": [],
   "source": [
    "X9.drop(labels = correlated_features_9, axis = 1, inplace = True)\n",
    "X8.drop(labels = correlated_features_8, axis = 1, inplace = True)\n",
    "X7.drop(labels = correlated_features_7, axis = 1, inplace = True)"
   ]
  },
  {
   "cell_type": "code",
   "execution_count": 21,
   "metadata": {},
   "outputs": [],
   "source": [
    "# Original Data - 38 Features\n",
    "recall_scores_lof = []\n",
    "precision_scores_lof = []\n",
    "f1_scores_lof = []\n",
    "weighted_f1_scores_lof = []\n",
    "false_alarms_lof = []\n",
    "\n",
    "\n",
    "def lof_calculations(n):    \n",
    "    \n",
    "    lof = LocalOutlierFactor(n_neighbors = n)\n",
    "    y_pred = lof.fit_predict(og_data)\n",
    "    y_pred = np.array(y_pred)\n",
    "    \n",
    "    r = recall_score(y, y_pred, pos_label = -1)\n",
    "    p = precision_score(y, y_pred, pos_label = -1)\n",
    "    f = f1_score(y, y_pred, pos_label = -1)\n",
    "    wf = f1_score(y, y_pred, average = 'weighted')\n",
    "    \n",
    "    tn, fp, fn, tp = confusion_matrix(y,y_pred).ravel()\n",
    "    false_alarm = fp/(fp+tn)\n",
    "   \n",
    "    recall_scores_lof.append(r)\n",
    "    precision_scores_lof.append(p)\n",
    "    f1_scores_lof.append(f)\n",
    "    weighted_f1_scores_lof.append(wf)\n",
    "    false_alarms_lof.append(false_alarm)"
   ]
  },
  {
   "cell_type": "code",
   "execution_count": 22,
   "metadata": {},
   "outputs": [],
   "source": [
    "# .9+ Threshold\n",
    "recall_scores_lof2 = []\n",
    "precision_scores_lof2 = []\n",
    "f1_scores_lof2 = []\n",
    "weighted_f1_scores_lof2 = []\n",
    "false_alarms_lof2 = []\n",
    "\n",
    "\n",
    "def lof_calculations2(n):    \n",
    "    \n",
    "    lof = LocalOutlierFactor(n_neighbors = n)\n",
    "    y_pred = lof.fit_predict(X9)\n",
    "    y_pred = np.array(y_pred)\n",
    "    \n",
    "    r = recall_score(y, y_pred, pos_label = -1)\n",
    "    p = precision_score(y, y_pred, pos_label = -1)\n",
    "    f = f1_score(y, y_pred, pos_label = -1)\n",
    "    wf = f1_score(y, y_pred, average = 'weighted')\n",
    "    \n",
    "    tn, fp, fn, tp = confusion_matrix(y,y_pred).ravel()\n",
    "    false_alarm = fp/(fp+tn)\n",
    "   \n",
    "    recall_scores_lof2.append(r)\n",
    "    precision_scores_lof2.append(p)\n",
    "    f1_scores_lof2.append(f)\n",
    "    weighted_f1_scores_lof2.append(wf)\n",
    "    false_alarms_lof2.append(false_alarm)"
   ]
  },
  {
   "cell_type": "code",
   "execution_count": 23,
   "metadata": {},
   "outputs": [],
   "source": [
    "# .8+ Threshold\n",
    "recall_scores_lof3 = []\n",
    "precision_scores_lof3 = []\n",
    "f1_scores_lof3 = []\n",
    "weighted_f1_scores_lof3 = []\n",
    "false_alarms_lof3 = []\n",
    "\n",
    "\n",
    "def lof_calculations3(n):    \n",
    "    \n",
    "    lof = LocalOutlierFactor(n_neighbors = n)\n",
    "    y_pred = lof.fit_predict(X8)\n",
    "    y_pred = np.array(y_pred)\n",
    "    \n",
    "    r = recall_score(y, y_pred, pos_label = -1)\n",
    "    p = precision_score(y, y_pred, pos_label = -1)\n",
    "    f = f1_score(y, y_pred, pos_label = -1)\n",
    "    wf = f1_score(y, y_pred, average = 'weighted')\n",
    "    \n",
    "    tn, fp, fn, tp = confusion_matrix(y,y_pred).ravel()\n",
    "    false_alarm = fp/(fp+tn)\n",
    "   \n",
    "    recall_scores_lof3.append(r)\n",
    "    precision_scores_lof3.append(p)\n",
    "    f1_scores_lof3.append(f)\n",
    "    weighted_f1_scores_lof3.append(wf)\n",
    "    false_alarms_lof3.append(false_alarm)"
   ]
  },
  {
   "cell_type": "code",
   "execution_count": 24,
   "metadata": {},
   "outputs": [],
   "source": [
    "# .7+ Threshold\n",
    "recall_scores_lof4 = []\n",
    "precision_scores_lof4 = []\n",
    "f1_scores_lof4 = []\n",
    "weighted_f1_scores_lof4 = []\n",
    "false_alarms_lof4 = []\n",
    "\n",
    "\n",
    "def lof_calculations4(n):    \n",
    "    \n",
    "    lof = LocalOutlierFactor(n_neighbors = n)\n",
    "    y_pred = lof.fit_predict(X7)\n",
    "    y_pred = np.array(y_pred)\n",
    "    \n",
    "    r = recall_score(y, y_pred, pos_label = -1)\n",
    "    p = precision_score(y, y_pred, pos_label = -1)\n",
    "    f = f1_score(y, y_pred, pos_label = -1)\n",
    "    wf = f1_score(y, y_pred, average = 'weighted')\n",
    "    \n",
    "    tn, fp, fn, tp = confusion_matrix(y,y_pred).ravel()\n",
    "    false_alarm = fp/(fp+tn)\n",
    "   \n",
    "    recall_scores_lof4.append(r)\n",
    "    precision_scores_lof4.append(p)\n",
    "    f1_scores_lof4.append(f)\n",
    "    weighted_f1_scores_lof4.append(wf)\n",
    "    false_alarms_lof4.append(false_alarm)"
   ]
  },
  {
   "cell_type": "code",
   "execution_count": null,
   "metadata": {},
   "outputs": [],
   "source": [
    "ilist = []\n",
    "\n",
    "i = 5\n",
    "while i <= 300:\n",
    "    lof_calculations(i)\n",
    "    lof_calculations2(i)\n",
    "    lof_calculations3(i)\n",
    "    lof_calculations4(i)\n",
    "    ilist.append(i)\n",
    "    i = i*2"
   ]
  },
  {
   "cell_type": "code",
   "execution_count": 26,
   "metadata": {},
   "outputs": [
    {
     "name": "stdout",
     "output_type": "stream",
     "text": [
      "6\n",
      "6\n",
      "6\n",
      "6\n"
     ]
    }
   ],
   "source": [
    "print(len(recall_scores_lof))\n",
    "print(len(recall_scores_lof2))\n",
    "print(len(recall_scores_lof3))\n",
    "print(len(recall_scores_lof4))"
   ]
  },
  {
   "cell_type": "code",
   "execution_count": 27,
   "metadata": {},
   "outputs": [
    {
     "data": {
      "image/png": "[encoded data removed]",
      "text/plain": [
       "<Figure size 432x288 with 1 Axes>"
      ]
     },
     "metadata": {
      "needs_background": "light"
     },
     "output_type": "display_data"
    }
   ],
   "source": [
    "# plt.figure(figsize = (8,5))\n",
    "\n",
    "plt.plot(ilist, precision_scores_lof, marker='o', linewidth=2, markersize=7, label='No Feature Selection')\n",
    "plt.plot(ilist, precision_scores_lof2, marker='o', linewidth=2, markersize=7,label='Threshold .9+')\n",
    "plt.plot(ilist, precision_scores_lof3, marker='o', linewidth=2, markersize=7, label='Threshold .8+')\n",
    "plt.plot(ilist, precision_scores_lof4, marker='o', linewidth=2, markersize=7, label='Threshold .7+')\n",
    "\n",
    "    \n",
    "plt.xlabel('Number of Nearest Neighbors',fontsize = 18)\n",
    "plt.ylabel('Precision Score',fontsize = 18)\n",
    "plt.title('LOF - Feature Selection Original KDD', fontsize = 20)\n",
    "    \n",
    "leg = plt.legend();\n",
    "\n",
    "plt.ylim((-.1, 1.1))\n",
    "\n",
    "plt.show()"
   ]
  },
  {
   "cell_type": "code",
   "execution_count": 28,
   "metadata": {},
   "outputs": [
    {
     "data": {
      "image/png": "[encoded data removed]",
      "text/plain": [
       "<Figure size 432x288 with 1 Axes>"
      ]
     },
     "metadata": {
      "needs_background": "light"
     },
     "output_type": "display_data"
    }
   ],
   "source": [
    "# plt.figure(figsize = (8,5))\n",
    "\n",
    "plt.plot(ilist, recall_scores_lof, marker='o', linewidth=2, markersize=7, label='No Feature Selection')\n",
    "plt.plot(ilist, recall_scores_lof2, marker='o', linewidth=2, markersize=7, label='Threshold .9+')\n",
    "plt.plot(ilist, recall_scores_lof3, marker='o', linewidth=2, markersize=7, label='Threshold .8+')\n",
    "plt.plot(ilist, recall_scores_lof4, marker='o', linewidth=2, markersize=7, label='Threshold .7+')\n",
    "\n",
    "    \n",
    "plt.xlabel('Number of Nearest Neighbors')\n",
    "plt.ylabel('Recall Score')\n",
    "plt.title('LOF - Feature Selection Original KDD')\n",
    "    \n",
    "leg = plt.legend();\n",
    "\n",
    "plt.ylim((-.1, 1.1))\n",
    "\n",
    "plt.show()"
   ]
  },
  {
   "cell_type": "code",
   "execution_count": 29,
   "metadata": {},
   "outputs": [
    {
     "data": {
      "image/png": "[encoded data removed]",
      "text/plain": [
       "<Figure size 576x360 with 1 Axes>"
      ]
     },
     "metadata": {
      "needs_background": "light"
     },
     "output_type": "display_data"
    }
   ],
   "source": [
    "plt.figure(figsize = (8,5))\n",
    "\n",
    "plt.plot(ilist, weighted_f1_scores_lof, marker='o', linewidth=2, markersize=7, label='No Feature Selection')\n",
    "plt.plot(ilist, weighted_f1_scores_lof2, marker='o', linewidth=2, markersize=7, label='Threshold .9+')\n",
    "plt.plot(ilist, weighted_f1_scores_lof3, marker='o', linewidth=2, markersize=7, label='Threshold .8+')\n",
    "plt.plot(ilist, weighted_f1_scores_lof4, marker='o', linewidth=2, markersize=7, label='Threshold .7+')\n",
    "\n",
    "    \n",
    "plt.xlabel('Number of Nearest Neighbors')\n",
    "plt.ylabel('Weighted F1 Score')\n",
    "plt.title('LOF - Feature Selection Original KDD')\n",
    "    \n",
    "leg = plt.legend();\n",
    "\n",
    "plt.ylim((-.1, 1.1))\n",
    "\n",
    "plt.show()"
   ]
  },
  {
   "cell_type": "code",
   "execution_count": 30,
   "metadata": {},
   "outputs": [
    {
     "data": {
      "image/png": "[encoded data removed]",
      "text/plain": [
       "<Figure size 432x288 with 1 Axes>"
      ]
     },
     "metadata": {
      "needs_background": "light"
     },
     "output_type": "display_data"
    }
   ],
   "source": [
    "# plt.figure(figsize = (8,5))\n",
    "\n",
    "plt.plot(ilist, false_alarms_lof, marker='o', linewidth=2, markersize=7, label='No Feature Selection')\n",
    "plt.plot(ilist, false_alarms_lof2, marker='o', linewidth=2, markersize=7, label='Threshold .9+')\n",
    "plt.plot(ilist, false_alarms_lof3, marker='o', linewidth=2, markersize=7, label='Threshold .8+')\n",
    "plt.plot(ilist, false_alarms_lof4, marker='o', linewidth=2, markersize=7, label='Threshold .7+')\n",
    "\n",
    "    \n",
    "plt.xlabel('Number of Nearest Neighbors', fontsize = 18)\n",
    "plt.ylabel('False Alarm Rate', fontsize = 18)\n",
    "plt.title('LOF - Feature Selection Original KDD', fontsize = 20)\n",
    "    \n",
    "leg = plt.legend();\n",
    "\n",
    "plt.ylim((-.1, 1.1))\n",
    "\n",
    "plt.show()"
   ]
  },
  {
   "cell_type": "code",
   "execution_count": 31,
   "metadata": {},
   "outputs": [
    {
     "data": {
      "image/png": "[encoded data removed]",
      "text/plain": [
       "<Figure size 432x288 with 1 Axes>"
      ]
     },
     "metadata": {
      "needs_background": "light"
     },
     "output_type": "display_data"
    }
   ],
   "source": [
    "# plt.figure(figsize = (8,5))\n",
    "\n",
    "plt.plot(ilist, precision_scores_lof2, marker='o', linewidth=2, markersize=7,label='Precision')\n",
    "plt.plot(ilist, recall_scores_lof2, marker='o', linewidth=2, markersize=7, label='Recall')\n",
    "plt.plot(ilist, weighted_f1_scores_lof2, marker='o', linewidth=2, markersize=7, label='F1+')\n",
    "plt.plot(ilist, false_alarms_lof2, marker='o', linewidth=2, markersize=7, label='False Alarm Rate')\n",
    "\n",
    "\n",
    "    \n",
    "plt.xlabel('Number of Nearest Neighbors', fontsize = 18)\n",
    "plt.ylabel('False Alarm Rate', fontsize = 18)\n",
    "plt.title('LOF - Feature Selection Original KDD Threshold .9', fontsize = 20)\n",
    "    \n",
    "leg = plt.legend();\n",
    "\n",
    "plt.ylim((-.1, 1.1))\n",
    "\n",
    "plt.show()"
   ]
  },
  {
   "cell_type": "code",
   "execution_count": 32,
   "metadata": {},
   "outputs": [
    {
     "data": {
      "image/png": "[encoded data removed]",
      "text/plain": [
       "<Figure size 432x288 with 1 Axes>"
      ]
     },
     "metadata": {
      "needs_background": "light"
     },
     "output_type": "display_data"
    }
   ],
   "source": [
    "# plt.figure(figsize = (8,5))\n",
    "\n",
    "plt.plot(ilist, precision_scores_lof3, marker='o', linewidth=2, markersize=7,label='Precision')\n",
    "plt.plot(ilist, recall_scores_lof3, marker='o', linewidth=2, markersize=7, label='Recall')\n",
    "plt.plot(ilist, weighted_f1_scores_lof3, marker='o', linewidth=2, markersize=7, label='F1+')\n",
    "plt.plot(ilist, false_alarms_lof3, marker='o', linewidth=2, markersize=7, label='False Alarm Rate')\n",
    "\n",
    "\n",
    "    \n",
    "plt.xlabel('Number of Nearest Neighbors', fontsize = 18)\n",
    "plt.ylabel('False Alarm Rate', fontsize = 18)\n",
    "plt.title('LOF - Feature Selection Original KDD Threshold .8', fontsize = 20)\n",
    "    \n",
    "leg = plt.legend();\n",
    "\n",
    "plt.ylim((-.1, 1.1))\n",
    "\n",
    "plt.show()"
   ]
  },
  {
   "cell_type": "code",
   "execution_count": 33,
   "metadata": {},
   "outputs": [
    {
     "data": {
      "image/png": "[encoded data removed]",
      "text/plain": [
       "<Figure size 432x288 with 1 Axes>"
      ]
     },
     "metadata": {
      "needs_background": "light"
     },
     "output_type": "display_data"
    }
   ],
   "source": [
    "# plt.figure(figsize = (8,5))\n",
    "\n",
    "plt.plot(ilist, precision_scores_lof4, marker='o', linewidth=2, markersize=7,label='Precision')\n",
    "plt.plot(ilist, recall_scores_lof4, marker='o', linewidth=2, markersize=7, label='Recall')\n",
    "plt.plot(ilist, weighted_f1_scores_lof4, marker='o', linewidth=2, markersize=7, label='F1+')\n",
    "plt.plot(ilist, false_alarms_lof4, marker='o', linewidth=2, markersize=7, label='False Alarm Rate')\n",
    "\n",
    "\n",
    "    \n",
    "plt.xlabel('Number of Nearest Neighbors', fontsize = 18)\n",
    "plt.ylabel('False Alarm Rate', fontsize = 18)\n",
    "plt.title('LOF - Feature Selection Original KDD Threshold .7', fontsize = 20)\n",
    "    \n",
    "leg = plt.legend();\n",
    "\n",
    "plt.ylim((-.1, 1.1))\n",
    "\n",
    "plt.show()"
   ]
  },
  {
   "cell_type": "code",
   "execution_count": 34,
   "metadata": {},
   "outputs": [],
   "source": [
    "# For single calculations\n",
    "\n",
    "def single_calculation(n):\n",
    "   \n",
    "    lof = LocalOutlierFactor(n_neighbors = n)\n",
    "    y_pred = lof.fit_predict(X7)\n",
    "    y_pred = np.array(y_pred)\n",
    "    \n",
    "    p = precision_score(y, y_pred, pos_label = -1)\n",
    "    r = recall_score(y, y_pred, pos_label = -1)\n",
    "    f = f1_score(y, y_pred, pos_label = -1)\n",
    "    wf = f1_score(y, y_pred, average = 'weighted')\n",
    "    \n",
    "    tn, fp, fn, tp = confusion_matrix(y,y_pred).ravel()\n",
    "    false_alarm = fp/(fp+tn) \n",
    "    print('Value of Nearest Neighbor Parameter:', n)\n",
    "    print('Precision:',p)\n",
    "    print('Recall:',r)\n",
    "    print('Weighted F1:',wf)\n",
    "    print('False Alarm Rate:', false_alarm)"
   ]
  },
  {
   "cell_type": "code",
   "execution_count": 35,
   "metadata": {},
   "outputs": [
    {
     "name": "stdout",
     "output_type": "stream",
     "text": [
      "Value of Nearest Neighbor Parameter: 4\n",
      "Precision: 0.678805120910384\n",
      "Recall: 0.05034180099586463\n",
      "Weighted F1: 0.1367141153212937\n",
      "False Alarm Rate: 0.9496581990041354\n"
     ]
    }
   ],
   "source": [
    "single_calculation(4)"
   ]
  },
  {
   "cell_type": "code",
   "execution_count": 36,
   "metadata": {},
   "outputs": [
    {
     "name": "stdout",
     "output_type": "stream",
     "text": [
      "Value of Nearest Neighbor Parameter: 80\n",
      "Precision: 0.7722747635639622\n",
      "Recall: 0.0654696598869103\n",
      "Weighted F1: 0.16011125772297205\n",
      "False Alarm Rate: 0.9345303401130897\n"
     ]
    }
   ],
   "source": [
    "single_calculation(80)"
   ]
  },
  {
   "cell_type": "code",
   "execution_count": 37,
   "metadata": {},
   "outputs": [
    {
     "name": "stdout",
     "output_type": "stream",
     "text": [
      "0.7722747635639622\n",
      "0.9345303401130897\n"
     ]
    }
   ],
   "source": [
    "print(max(precision_scores_lof4))\n",
    "print(min(false_alarms_lof4))"
   ]
  }
 ],
 "metadata": {
  "kernelspec": {
   "display_name": "Python 3",
   "language": "python",
   "name": "python3"
  },
  "language_info": {
   "codemirror_mode": {
    "name": "ipython",
    "version": 3
   },
   "file_extension": ".py",
   "mimetype": "text/x-python",
   "name": "python",
   "nbconvert_exporter": "python",
   "pygments_lexer": "ipython3",
   "version": "3.8.3"
  }
 },
 "nbformat": 4,
 "nbformat_minor": 4
}
